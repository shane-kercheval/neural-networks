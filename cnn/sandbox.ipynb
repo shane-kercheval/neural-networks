{
 "cells": [
  {
   "cell_type": "code",
   "execution_count": 1,
   "metadata": {},
   "outputs": [
    {
     "name": "stdout",
     "output_type": "stream",
     "text": [
      "Sequential(\n",
      "        Conv2D(1, 16, kernel_size=3, stride=1, padding=1),\n",
      "ReLU(),\n",
      "MaxPool2D(kernel_size=2, stride=2),\n",
      "Conv2D(16, 32, kernel_size=3, stride=1, padding=1),\n",
      "ReLU(),\n",
      "MaxPool2D(kernel_size=2, stride=2),\n",
      "Flatten(),\n",
      "Linear(1568x128),\n",
      "ReLU(),\n",
      "Linear(128x10)\n",
      "    )\n"
     ]
    }
   ],
   "source": [
    "import torchpy.architectures as arch\n",
    "print(arch.CNN())"
   ]
  },
  {
   "cell_type": "code",
   "execution_count": null,
   "metadata": {},
   "outputs": [],
   "source": []
  }
 ],
 "metadata": {
  "kernelspec": {
   "display_name": "Python 3",
   "language": "python",
   "name": "python3"
  },
  "language_info": {
   "codemirror_mode": {
    "name": "ipython",
    "version": 3
   },
   "file_extension": ".py",
   "mimetype": "text/x-python",
   "name": "python",
   "nbconvert_exporter": "python",
   "pygments_lexer": "ipython3",
   "version": "3.11.9"
  }
 },
 "nbformat": 4,
 "nbformat_minor": 2
}
