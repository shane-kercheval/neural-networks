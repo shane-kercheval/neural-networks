{
 "cells": [
  {
   "cell_type": "code",
   "execution_count": 2,
   "metadata": {},
   "outputs": [],
   "source": [
    "import numpy as np\n",
    "import matplotlib.pyplot as plt\n",
    "\n",
    "from data import get_names"
   ]
  },
  {
   "cell_type": "code",
   "execution_count": 3,
   "metadata": {},
   "outputs": [
    {
     "name": "stdout",
     "output_type": "stream",
     "text": [
      "['emma', 'olivia', 'ava', 'isabella', 'sophia']\n"
     ]
    }
   ],
   "source": [
    "words = get_names()\n",
    "print(words[:5])"
   ]
  },
  {
   "cell_type": "code",
   "execution_count": 4,
   "metadata": {},
   "outputs": [
    {
     "name": "stdout",
     "output_type": "stream",
     "text": [
      "['.', 'a', 'b', 'c', 'd', 'e', 'f', 'g', 'h', 'i', 'j', 'k', 'l', 'm', 'n', 'o', 'p', 'q', 'r', 's', 't', 'u', 'v', 'w', 'x', 'y', 'z']\n",
      "27\n",
      "{'.': 0, 'a': 1, 'b': 2, 'c': 3, 'd': 4, 'e': 5, 'f': 6, 'g': 7, 'h': 8, 'i': 9, 'j': 10, 'k': 11, 'l': 12, 'm': 13, 'n': 14, 'o': 15, 'p': 16, 'q': 17, 'r': 18, 's': 19, 't': 20, 'u': 21, 'v': 22, 'w': 23, 'x': 24, 'y': 25, 'z': 26}\n"
     ]
    }
   ],
   "source": [
    "characters = ['.', *sorted({c for w in words for c in w})]\n",
    "print(characters)\n",
    "print(len(characters))\n",
    "index = {\n",
    "    c:i\n",
    "    for i, c in enumerate(characters)\n",
    "}\n",
    "index\n",
    "print(index)"
   ]
  },
  {
   "cell_type": "code",
   "execution_count": 5,
   "metadata": {},
   "outputs": [
    {
     "name": "stdout",
     "output_type": "stream",
     "text": [
      "[ 0  5 13 13  1  0 15 12  9 22]\n",
      "[ 5 13 13  1  0 15 12  9 22  9]\n"
     ]
    }
   ],
   "source": [
    "# create the training set of all of the bigrams\n",
    "# x is the input, y is the target (i.e. the next character)\n",
    "x, y = [], []\n",
    "training_data = []\n",
    "for w in words:\n",
    "    chars = ['.',  *w, '.']\n",
    "    for c1, c2 in zip(chars, chars[1:]):\n",
    "        x.append(index[c1])\n",
    "        y.append(index[c2])\n",
    "\n",
    "x = np.array(x)\n",
    "y = np.array(y)\n",
    "\n",
    "print(x[:10])\n",
    "print(y[:10])"
   ]
  },
  {
   "cell_type": "code",
   "execution_count": 6,
   "metadata": {},
   "outputs": [
    {
     "name": "stdout",
     "output_type": "stream",
     "text": [
      "[[1. 0. 0. 0. 0. 0. 0. 0. 0. 0. 0. 0. 0. 0. 0. 0. 0. 0. 0. 0. 0. 0. 0. 0.\n",
      "  0. 0. 0.]\n",
      " [0. 0. 0. 0. 0. 1. 0. 0. 0. 0. 0. 0. 0. 0. 0. 0. 0. 0. 0. 0. 0. 0. 0. 0.\n",
      "  0. 0. 0.]\n",
      " [0. 0. 0. 0. 0. 0. 0. 0. 0. 0. 0. 0. 0. 1. 0. 0. 0. 0. 0. 0. 0. 0. 0. 0.\n",
      "  0. 0. 0.]\n",
      " [0. 0. 0. 0. 0. 0. 0. 0. 0. 0. 0. 0. 0. 1. 0. 0. 0. 0. 0. 0. 0. 0. 0. 0.\n",
      "  0. 0. 0.]\n",
      " [0. 1. 0. 0. 0. 0. 0. 0. 0. 0. 0. 0. 0. 0. 0. 0. 0. 0. 0. 0. 0. 0. 0. 0.\n",
      "  0. 0. 0.]\n",
      " [1. 0. 0. 0. 0. 0. 0. 0. 0. 0. 0. 0. 0. 0. 0. 0. 0. 0. 0. 0. 0. 0. 0. 0.\n",
      "  0. 0. 0.]]\n"
     ]
    },
    {
     "data": {
      "text/plain": [
       "<matplotlib.image.AxesImage at 0xffff73bca710>"
      ]
     },
     "execution_count": 6,
     "metadata": {},
     "output_type": "execute_result"
    },
    {
     "data": {
      "image/png": "[encoded data removed]",
      "text/plain": [
       "<Figure size 640x480 with 1 Axes>"
      ]
     },
     "metadata": {},
     "output_type": "display_data"
    }
   ],
   "source": [
    "# encode\n",
    "def one_hot_encode(index: int) -> np.array:\n",
    "    \"\"\"Return a one-hot encoded vector of the given index.\"\"\"\n",
    "    vector = np.zeros(len(characters))\n",
    "    vector[index] = 1\n",
    "    return vector\n",
    "\n",
    "x_encoded = np.array([one_hot_encode(i) for i in x])\n",
    "y_encoded = np.array([one_hot_encode(i) for i in y])\n",
    "\n",
    "print(x_encoded[:6])\n",
    "plt.imshow(x_encoded[0:10])"
   ]
  },
  {
   "cell_type": "code",
   "execution_count": 26,
   "metadata": {},
   "outputs": [
    {
     "name": "stdout",
     "output_type": "stream",
     "text": [
      "Epoch 0, batch 0000, loss 3.2958106994628906\n",
      "Epoch 0, batch 3125, loss 3.2895469665527344\n",
      "Epoch 0, batch 6250, loss 3.287709951400757\n",
      "Epoch 1, batch 0000, loss 3.281012535095215\n",
      "Epoch 1, batch 3125, loss 3.2275071144104004\n",
      "Epoch 1, batch 6250, loss 3.2146928310394287\n",
      "Epoch 2, batch 0000, loss 3.165951728820801\n",
      "Epoch 2, batch 3125, loss 3.0453169345855713\n",
      "Epoch 2, batch 6250, loss 3.197606325149536\n",
      "Epoch 3, batch 0000, loss 3.115030288696289\n",
      "Epoch 3, batch 3125, loss 2.9976024627685547\n",
      "Epoch 3, batch 6250, loss 3.1807398796081543\n",
      "Epoch 4, batch 0000, loss 3.070197105407715\n",
      "Epoch 4, batch 3125, loss 2.9854393005371094\n",
      "Epoch 4, batch 6250, loss 3.172398805618286\n",
      "Epoch 5, batch 0000, loss 3.0623788833618164\n",
      "Epoch 5, batch 3125, loss 2.9848437309265137\n",
      "Epoch 5, batch 6250, loss 3.1686697006225586\n",
      "Epoch 6, batch 0000, loss 3.063253879547119\n",
      "Epoch 6, batch 3125, loss 2.9864234924316406\n",
      "Epoch 6, batch 6250, loss 3.1665947437286377\n",
      "Epoch 7, batch 0000, loss 3.065898895263672\n",
      "Epoch 7, batch 3125, loss 2.9884729385375977\n",
      "Epoch 7, batch 6250, loss 3.1651999950408936\n",
      "Epoch 8, batch 0000, loss 3.0687990188598633\n",
      "Epoch 8, batch 3125, loss 2.990314245223999\n",
      "Epoch 8, batch 6250, loss 3.1641652584075928\n",
      "Epoch 9, batch 0000, loss 3.07149076461792\n",
      "Epoch 9, batch 3125, loss 2.991912364959717\n",
      "Epoch 9, batch 6250, loss 3.163424491882324\n",
      "Epoch 10, batch 0000, loss 3.073791027069092\n",
      "Epoch 10, batch 3125, loss 2.9933176040649414\n",
      "Epoch 10, batch 6250, loss 3.1629631519317627\n",
      "Epoch 11, batch 0000, loss 3.0757014751434326\n",
      "Epoch 11, batch 3125, loss 2.994570732116699\n",
      "Epoch 11, batch 6250, loss 3.1627886295318604\n",
      "Epoch 12, batch 0000, loss 3.077230930328369\n",
      "Epoch 12, batch 3125, loss 2.995699882507324\n",
      "Epoch 12, batch 6250, loss 3.1628730297088623\n",
      "Epoch 13, batch 0000, loss 3.0784356594085693\n",
      "Epoch 13, batch 3125, loss 2.9967048168182373\n",
      "Epoch 13, batch 6250, loss 3.1631977558135986\n",
      "Epoch 14, batch 0000, loss 3.079334020614624\n",
      "Epoch 14, batch 3125, loss 2.9975950717926025\n",
      "Epoch 14, batch 6250, loss 3.1637473106384277\n",
      "Epoch 14, batch 7129, loss 3.19512939453125\n"
     ]
    }
   ],
   "source": [
    "import torch\n",
    "from torch import nn\n",
    "from torch import optim\n",
    "from torch.utils.data import DataLoader, TensorDataset\n",
    "\n",
    "class MLP(nn.Module):\n",
    "    \"\"\"A Multilayer Perceptron (MLP) model in PyTorch with one hidden layer.\"\"\"\n",
    "\n",
    "    def __init__(self):\n",
    "        super().__init__()\n",
    "        self.hidden = nn.Linear(27, 50)  # Hidden layer with 50 neurons\n",
    "        self.output = nn.Linear(50, 27)  # Output layer with 27 outputs\n",
    "        self.relu = nn.ReLU()            # ReLU activation for hidden layer\n",
    "        self.softmax = nn.Softmax(dim=1) # Softmax activation for output layer\n",
    "\n",
    "    def forward(self, x: torch.Tensor) -> torch.Tensor:\n",
    "        \"\"\"\n",
    "        Forward pass through the network.\n",
    "\n",
    "        Args:\n",
    "            x: Input tensor.\n",
    "\n",
    "        Returns:\n",
    "            Tensor after passing through the layers and activations.\n",
    "        \"\"\"\n",
    "        x = self.relu(self.hidden(x))\n",
    "        return self.softmax(self.output(x))\n",
    "\n",
    "learning_rate = 0.01\n",
    "epochs = 15\n",
    "batch_size = 32\n",
    "\n",
    "dataset = TensorDataset(\n",
    "    torch.tensor(x_encoded, dtype=torch.float),\n",
    "    torch.tensor(y_encoded, dtype=torch.float),\n",
    ")\n",
    "# not shuffling so that is more similar to numpy implementation\n",
    "dataloader = DataLoader(dataset, batch_size=batch_size, shuffle=False)\n",
    "\n",
    "model = MLP()\n",
    "criterion = nn.CrossEntropyLoss()\n",
    "optimizer = optim.SGD(model.parameters(), lr=learning_rate)\n",
    "losses = []\n",
    "\n",
    "for epoch in range(epochs):\n",
    "    for i, (inputs, targets) in enumerate(dataloader):\n",
    "        optimizer.zero_grad()\n",
    "        outputs = model(inputs)\n",
    "        loss = criterion(outputs, targets)\n",
    "        loss.backward()\n",
    "        optimizer.step()\n",
    "        if i % 3125 == 0:\n",
    "            losses.append(loss.item())\n",
    "            print(f\"Epoch {epoch}, batch {i:04}, loss {loss}\")\n",
    "print(f\"Epoch {epoch}, batch {i:04}, loss {loss}\")"
   ]
  },
  {
   "cell_type": "code",
   "execution_count": 24,
   "metadata": {},
   "outputs": [
    {
     "data": {
      "text/plain": [
       "[<matplotlib.lines.Line2D at 0xffff3b658190>]"
      ]
     },
     "execution_count": 24,
     "metadata": {},
     "output_type": "execute_result"
    },
    {
     "data": {
      "image/png": "[encoded data removed]",
      "text/plain": [
       "<Figure size 640x480 with 1 Axes>"
      ]
     },
     "metadata": {},
     "output_type": "display_data"
    }
   ],
   "source": [
    "# plot losses over time\n",
    "plt.plot(losses)"
   ]
  }
 ],
 "metadata": {
  "kernelspec": {
   "display_name": "Python 3",
   "language": "python",
   "name": "python3"
  },
  "language_info": {
   "codemirror_mode": {
    "name": "ipython",
    "version": 3
   },
   "file_extension": ".py",
   "mimetype": "text/x-python",
   "name": "python",
   "nbconvert_exporter": "python",
   "pygments_lexer": "ipython3",
   "version": "3.11.8"
  }
 },
 "nbformat": 4,
 "nbformat_minor": 2
}
