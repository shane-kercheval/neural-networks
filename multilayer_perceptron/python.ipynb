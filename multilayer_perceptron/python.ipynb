{
 "cells": [
  {
   "cell_type": "markdown",
   "metadata": {},
   "source": [
    "# Multilayer Perception implemented in numpy"
   ]
  },
  {
   "cell_type": "code",
   "execution_count": 3,
   "metadata": {},
   "outputs": [],
   "source": [
    "import numpy as np\n",
    "import matplotlib.pyplot as plt\n",
    "\n",
    "from data import get_names"
   ]
  },
  {
   "cell_type": "code",
   "execution_count": 4,
   "metadata": {},
   "outputs": [
    {
     "name": "stdout",
     "output_type": "stream",
     "text": [
      "['emma', 'olivia', 'ava', 'isabella', 'sophia']\n"
     ]
    }
   ],
   "source": [
    "words = get_names()\n",
    "print(words[:5])"
   ]
  },
  {
   "cell_type": "markdown",
   "metadata": {},
   "source": [
    "- bigram character language model\n",
    "- receives a single character as input; output is the probability distribution of the next character in the sequence\n",
    "- using gradient descent "
   ]
  },
  {
   "cell_type": "code",
   "execution_count": 5,
   "metadata": {},
   "outputs": [
    {
     "name": "stdout",
     "output_type": "stream",
     "text": [
      "['.', 'a', 'b', 'c', 'd', 'e', 'f', 'g', 'h', 'i', 'j', 'k', 'l', 'm', 'n', 'o', 'p', 'q', 'r', 's', 't', 'u', 'v', 'w', 'x', 'y', 'z']\n",
      "27\n",
      "{'.': 0, 'a': 1, 'b': 2, 'c': 3, 'd': 4, 'e': 5, 'f': 6, 'g': 7, 'h': 8, 'i': 9, 'j': 10, 'k': 11, 'l': 12, 'm': 13, 'n': 14, 'o': 15, 'p': 16, 'q': 17, 'r': 18, 's': 19, 't': 20, 'u': 21, 'v': 22, 'w': 23, 'x': 24, 'y': 25, 'z': 26}\n"
     ]
    }
   ],
   "source": [
    "characters = ['.', *sorted({c for w in words for c in w})]\n",
    "print(characters)\n",
    "print(len(characters))\n",
    "index = {\n",
    "    c:i\n",
    "    for i, c in enumerate(characters)\n",
    "}\n",
    "index\n",
    "print(index)"
   ]
  },
  {
   "cell_type": "code",
   "execution_count": 6,
   "metadata": {},
   "outputs": [
    {
     "name": "stdout",
     "output_type": "stream",
     "text": [
      "[ 0  5 13 13  1  0 15 12  9 22]\n",
      "[ 5 13 13  1  0 15 12  9 22  9]\n"
     ]
    }
   ],
   "source": [
    "# create the training set of all of the bigrams\n",
    "# x is the input, y is the target (i.e. the next character)\n",
    "x, y = [], []\n",
    "training_data = []\n",
    "for w in words:\n",
    "    chars = ['.',  *w, '.']\n",
    "    for c1, c2 in zip(chars, chars[1:]):\n",
    "        x.append(index[c1])\n",
    "        y.append(index[c2])\n",
    "\n",
    "x = np.array(x)\n",
    "y = np.array(y)\n",
    "\n",
    "print(x[:10])\n",
    "print(y[:10])"
   ]
  },
  {
   "cell_type": "code",
   "execution_count": 7,
   "metadata": {},
   "outputs": [
    {
     "name": "stdout",
     "output_type": "stream",
     "text": [
      "[[1. 0. 0. 0. 0. 0. 0. 0. 0. 0. 0. 0. 0. 0. 0. 0. 0. 0. 0. 0. 0. 0. 0. 0.\n",
      "  0. 0. 0.]\n",
      " [0. 0. 0. 0. 0. 1. 0. 0. 0. 0. 0. 0. 0. 0. 0. 0. 0. 0. 0. 0. 0. 0. 0. 0.\n",
      "  0. 0. 0.]\n",
      " [0. 0. 0. 0. 0. 0. 0. 0. 0. 0. 0. 0. 0. 1. 0. 0. 0. 0. 0. 0. 0. 0. 0. 0.\n",
      "  0. 0. 0.]\n",
      " [0. 0. 0. 0. 0. 0. 0. 0. 0. 0. 0. 0. 0. 1. 0. 0. 0. 0. 0. 0. 0. 0. 0. 0.\n",
      "  0. 0. 0.]\n",
      " [0. 1. 0. 0. 0. 0. 0. 0. 0. 0. 0. 0. 0. 0. 0. 0. 0. 0. 0. 0. 0. 0. 0. 0.\n",
      "  0. 0. 0.]\n",
      " [1. 0. 0. 0. 0. 0. 0. 0. 0. 0. 0. 0. 0. 0. 0. 0. 0. 0. 0. 0. 0. 0. 0. 0.\n",
      "  0. 0. 0.]]\n"
     ]
    },
    {
     "data": {
      "text/plain": [
       "<matplotlib.image.AxesImage at 0xffff61010450>"
      ]
     },
     "execution_count": 7,
     "metadata": {},
     "output_type": "execute_result"
    },
    {
     "data": {
      "image/png": "[encoded data removed]",
      "text/plain": [
       "<Figure size 640x480 with 1 Axes>"
      ]
     },
     "metadata": {},
     "output_type": "display_data"
    }
   ],
   "source": [
    "# encode\n",
    "def one_hot_encode(index: int) -> np.array:\n",
    "    \"\"\"Return a one-hot encoded vector of the given index.\"\"\"\n",
    "    vector = np.zeros(len(characters))\n",
    "    vector[index] = 1\n",
    "    return vector\n",
    "\n",
    "x_encoded = np.array([one_hot_encode(i) for i in x])\n",
    "y_encoded = np.array([one_hot_encode(i) for i in y])\n",
    "\n",
    "print(x_encoded[:6])\n",
    "plt.imshow(x_encoded[0:10])"
   ]
  },
  {
   "cell_type": "code",
   "execution_count": 8,
   "metadata": {},
   "outputs": [
    {
     "name": "stdout",
     "output_type": "stream",
     "text": [
      "(50, 27)\n",
      "(50, 1)\n",
      "(27, 50)\n",
      "(27, 1)\n"
     ]
    }
   ],
   "source": [
    "seed = 42\n",
    "rng = np.random.default_rng(seed)\n",
    "\n",
    "input_size = len(characters)\n",
    "hidden_size = 50\n",
    "output_size = len(characters)\n",
    "\n",
    "# weights between input and hidden layer\n",
    "W_1 = rng.normal(size=(hidden_size, input_size)) * 0.01\n",
    "# biases of the hidden layer\n",
    "b_1 = np.zeros((hidden_size, 1))\n",
    "W_2 = rng.normal(size=(output_size, hidden_size)) * 0.01\n",
    "b_2 = np.zeros((output_size, 1))\n",
    "\n",
    "print(W_1.shape)\n",
    "print(b_1.shape)\n",
    "print(W_2.shape)\n",
    "print(b_2.shape)"
   ]
  },
  {
   "cell_type": "code",
   "execution_count": 9,
   "metadata": {},
   "outputs": [
    {
     "data": {
      "text/plain": [
       "<matplotlib.image.AxesImage at 0xffff60db7e90>"
      ]
     },
     "execution_count": 9,
     "metadata": {},
     "output_type": "execute_result"
    },
    {
     "data": {
      "image/png": "[encoded data removed]",
      "text/plain": [
       "<Figure size 640x480 with 1 Axes>"
      ]
     },
     "metadata": {},
     "output_type": "display_data"
    }
   ],
   "source": [
    "plt.imshow(W_1)"
   ]
  },
  {
   "cell_type": "markdown",
   "metadata": {},
   "source": [
    "---"
   ]
  },
  {
   "cell_type": "markdown",
   "metadata": {},
   "source": [
    "# Forward Pass"
   ]
  },
  {
   "cell_type": "markdown",
   "metadata": {},
   "source": [
    "## Relationship between \"fully connected\" layers and matrix multiplication "
   ]
  },
  {
   "cell_type": "code",
   "execution_count": 10,
   "metadata": {},
   "outputs": [
    {
     "name": "stdout",
     "output_type": "stream",
     "text": [
      "We have a batch of 32 examples, each with 27 features (one hot encoding of characters).\n"
     ]
    }
   ],
   "source": [
    "x_batch = x_encoded[:32]\n",
    "x_batch.shape\n",
    "y_batch = y_encoded[:32]\n",
    "print(f\"We have a batch of {x_batch.shape[0]} examples, each with {x_batch.shape[1]} features (one hot encoding of characters).\")  # noqa"
   ]
  },
  {
   "cell_type": "markdown",
   "metadata": {},
   "source": [
    "We need to calculate the \"pre-activation values\" which is a value that connects each neuron to an example in the batch.\n",
    "\n",
    "The `pre-activations` are a matrix of values corresponding to the neurons in the hidden layer (`50`) and the batch size (`32`).\n",
    "\n",
    "The pre-activations are calculated by matrix-multiplying the weights of the input/hidden layer by the batch examples/features and adding the bias."
   ]
  },
  {
   "cell_type": "code",
   "execution_count": 11,
   "metadata": {},
   "outputs": [
    {
     "data": {
      "text/plain": [
       "(50, 32)"
      ]
     },
     "execution_count": 11,
     "metadata": {},
     "output_type": "execute_result"
    }
   ],
   "source": [
    "pre_activations = ((W_1 @ x_batch.T) + b_1)\n",
    "pre_activations.shape"
   ]
  },
  {
   "cell_type": "code",
   "execution_count": 12,
   "metadata": {},
   "outputs": [
    {
     "name": "stdout",
     "output_type": "stream",
     "text": [
      "dot(W, x.T) = dot((neurons, input), (input, batch)) = dot((50, 27), (27, 32))\n"
     ]
    }
   ],
   "source": [
    "print(f\"dot(W, x.T) = dot((neurons, input), (input, batch)) = dot({W_1.shape}, {x_batch.T.shape})\")"
   ]
  },
  {
   "cell_type": "code",
   "execution_count": 13,
   "metadata": {},
   "outputs": [
    {
     "name": "stdout",
     "output_type": "stream",
     "text": [
      "dot(W, x.T) = dot((neurons, input), (input, batch)) = dot((50, 27), (27, 32)) = ((50, 32))\n"
     ]
    }
   ],
   "source": [
    "pre_activations_hidden = np.dot(W_1, x_batch.T)\n",
    "assert (pre_activations == pre_activations_hidden).all()  # biases are all zeros at this point\n",
    "print(f\"dot(W, x.T) = dot((neurons, input), (input, batch)) = dot({W_1.shape}, {x_batch.T.shape}) = ({pre_activations_hidden.shape})\")  # noqa\n",
    "assert (pre_activations_hidden == W_1 @ x_batch.T).all()\n",
    "# np.dot(W1, X)"
   ]
  },
  {
   "cell_type": "markdown",
   "metadata": {},
   "source": [
    "Matrix multiplication is calculated by taking the first row of the first matrix and the first column of the second matrix and doing a dot product (multiplying all corresponding elements together and then summing across all results), and repeating for all row/column combinations of the first and second matrix respectively.\n",
    "\n",
    "However, in order to do the matrix multiplication with our weight matrix and batch matrix, we have to transpose the batch matrix.\n",
    "\n",
    "We start with these dimensions `(neurons x input_size) @ (batch_size x input_size)`\n",
    "\n",
    "But we need `(neurons x input_size) @ (input_size x batch_size)`\n",
    "\n",
    "And so we take the first row of the weight matrix and the first column of the transposed batch matrix and do a dot product. But the `first column of the transposed batch matrix` is the same as the first row of the non-transposed batch matrix. So really, each value in the pre-activation matrix is the dot product of the connections of a particular neuron (e.g. the first row in weights matrix is the first neuron) to the inputs of a particular example (e.g. first row in batch matrix) resulting an a matrix that has 50 rows corresponding to the the number of neurons and 32 columns corresponding to each of the examples."
   ]
  },
  {
   "cell_type": "code",
   "execution_count": 14,
   "metadata": {},
   "outputs": [],
   "source": [
    "# first row of weights, and first column of transposed input\n",
    "w_row = W_1[0, :]\n",
    "xt_column = x_batch.T[:, 0]\n",
    "w_row.shape, xt_column.shape\n",
    "# dot product is just the sum of the element-wise product\n",
    "assert np.dot(w_row, xt_column) == (w_row * xt_column).sum()"
   ]
  },
  {
   "cell_type": "code",
   "execution_count": 15,
   "metadata": {},
   "outputs": [],
   "source": [
    "# but the first column of transposed input is just the first row of the input (non-transposed)\n",
    "for r in range(len(x_batch)):\n",
    "    assert (x_batch.T[:, r] == x_batch[r, :]).all()\n",
    "\n",
    "assert np.dot(w_row, xt_column) == np.dot(w_row, x_batch[0, :])\n",
    "# and so below, we don't need to transpose the input and we can just use the dot product\n",
    "# for each row (i.e. nueron) of the weights and each row (example) of the input"
   ]
  },
  {
   "cell_type": "code",
   "execution_count": 16,
   "metadata": {},
   "outputs": [
    {
     "name": "stdout",
     "output_type": "stream",
     "text": [
      "(50, 32)\n"
     ]
    }
   ],
   "source": [
    "# manual dot product i.e. matrix multiplication\n",
    "# matrix multiplication is the dot product of the rows of the first matrix with the columns of the\n",
    "# second matrix\n",
    "assert W_1.shape[1] == x_batch.T.shape[0]\n",
    "# the result will have the same number of rows as the first matrix and the same number of columns\n",
    "pre_activations_manual = np.zeros((W_1.shape[0], x_batch.shape[0]))\n",
    "for i in range(W_1.shape[0]):\n",
    "    for j in range(x_batch.shape[0]):\n",
    "        pre_activations_manual[i, j] = np.dot(W_1[i], x_batch[j])\n",
    "\n",
    "print(pre_activations_manual.shape)\n",
    "assert (pre_activations_manual == pre_activations_hidden).all()"
   ]
  },
  {
   "cell_type": "code",
   "execution_count": 17,
   "metadata": {},
   "outputs": [],
   "source": [
    "# and so the first element in the pre-activations is the dot product of the first row (neuron) of the\n",
    "# weights and the first row (example) of the input (we haven't included the bias yet)\n",
    "# in other words, the first neuron is connected to each of the inputs (27) with a weight, which is\n",
    "# why our weights matrix has 27 columns. Each column is a weight for each input. The matrix\n",
    "# connects all of the inputs to all of the neurons. The dot product of the first row of the weights\n",
    "# and the first row of the input is the sum of the element-wise product of the two vectors. This\n",
    "# is the pre-activation of the first neuron for the first example. There are 50 neurons and 32 examples\n",
    "# so the pre-activations matrix is 50 x 32\n",
    "assert pre_activations_hidden[0,0] == np.dot(W_1[0, :], x_batch[0, :])"
   ]
  },
  {
   "cell_type": "markdown",
   "metadata": {},
   "source": [
    "---"
   ]
  },
  {
   "cell_type": "markdown",
   "metadata": {},
   "source": [
    "## Actual Pass"
   ]
  },
  {
   "cell_type": "code",
   "execution_count": 18,
   "metadata": {},
   "outputs": [
    {
     "name": "stdout",
     "output_type": "stream",
     "text": [
      "[[1 2 3]\n",
      " [3 0 7]]\n",
      "[[0.09  0.245 0.665]\n",
      " [0.018 0.001 0.981]]\n",
      "[1. 1.]\n"
     ]
    }
   ],
   "source": [
    "def relu(x: np.array) -> np.array:\n",
    "    \"\"\"Return the ReLU of the input.\"\"\"\n",
    "    return np.maximum(0, x)\n",
    "\n",
    "def relu_derivative(x: np.array) -> np.array:\n",
    "    \"\"\"\n",
    "    Return the derivative of the ReLU of the input.\n",
    "    \"\"\"\n",
    "    return (x > 0).astype(float)\n",
    "\n",
    "def softmax(x: np.array) -> np.array:\n",
    "    \"\"\"\n",
    "    Return the softmax of the input.\n",
    "\n",
    "    The softmax function is a generalization of the logistic function that \"squashes\" a\n",
    "    K-dimensional\n",
    "    vector z of arbitrary real values to a K-dimensional vector sigma(z) of real values in the\n",
    "    range (0, 1) that add up to 1.\n",
    "\n",
    "    In other words, the softmax function transforms a vector of real values into a probability\n",
    "    distribution.\n",
    "    \"\"\"\n",
    "    exp_x = np.exp(x)\n",
    "    return exp_x / exp_x.sum(axis=1).reshape(-1, 1)\n",
    "\n",
    "def softmax_derivative(x: np.array) -> np.array:\n",
    "    \"\"\"\n",
    "    Return the derivative of the softmax of the input.\n",
    "    https://towardsdatascience.com/derivative-of-the-softmax-function-and-the-categorical-cross-entropy-loss-ffceefc081d1\n",
    "    \"\"\"\n",
    "    return softmax(x) * (1 - softmax(x))\n",
    "\n",
    "\n",
    "example = np.array([\n",
    "    [1, 2, 3],\n",
    "    [3, 0, 7],\n",
    "])\n",
    "print(example)\n",
    "print(softmax(example).round(3))\n",
    "print(softmax(example).sum(axis=1))"
   ]
  },
  {
   "cell_type": "code",
   "execution_count": 19,
   "metadata": {},
   "outputs": [],
   "source": [
    "# # activations for first layer\n",
    "# Z_1 = (W_1 @ x_batch.T) + b_1  # pre-activations for layer 1\n",
    "# A_1 = relu(Z_1)  # activations for layer 1\n",
    "# print(f\"({W_1.shape} @ {x_batch.T.shape}) + {b_1.shape} = ({A_1.shape})\")\n",
    "# Z_2 = (W_2 @ A_1) + b_2  # pre-activations for layer 2\n",
    "# A_2 = softmax(Z_2)  # activations for layer 2 are probabilities\n",
    "# # our output size is 27 which happens to be the same as the input size (but in general doesn't\n",
    "# # have to be the same)\n",
    "# # so the result is 27 outputs for each of the 32 examples\n",
    "# print(f\"({W_2.shape} @ {A_1.shape}) + {b_2.shape} = ({A_2.shape})\")"
   ]
  },
  {
   "cell_type": "markdown",
   "metadata": {},
   "source": [
    "---"
   ]
  },
  {
   "cell_type": "markdown",
   "metadata": {},
   "source": [
    "Let's swap the shape of the weights so that we don't have to transpose and end up with a 32x27 rather than a 27x32 matrix  "
   ]
  },
  {
   "cell_type": "code",
   "execution_count": 20,
   "metadata": {},
   "outputs": [
    {
     "name": "stdout",
     "output_type": "stream",
     "text": [
      "(27, 50)\n",
      "(1, 50)\n",
      "(50, 27)\n",
      "(1, 27)\n"
     ]
    }
   ],
   "source": [
    "seed = 42\n",
    "rng = np.random.default_rng(seed)\n",
    "\n",
    "input_size = len(characters)\n",
    "hidden_size = 50\n",
    "output_size = len(characters)\n",
    "\n",
    "# weights between input and hidden layer\n",
    "# W_1 = rng.normal(size=(hidden_size, input_size)) * 0.01\n",
    "W_1 = rng.normal(size=(input_size, hidden_size)) * 0.01\n",
    "# biases of the hidden layer\n",
    "# b_1 = np.zeros((hidden_size, 1))\n",
    "b_1 = np.zeros((1, hidden_size))\n",
    "# W_2 = rng.normal(size=(output_size, hidden_size)) * 0.01\n",
    "W_2 = rng.normal(size=(hidden_size, output_size)) * 0.01\n",
    "# b_2 = np.zeros((output_size, 1))\n",
    "b_2 = np.zeros((1, output_size))\n",
    "\n",
    "print(W_1.shape)\n",
    "print(b_1.shape)\n",
    "print(W_2.shape)\n",
    "print(b_2.shape)"
   ]
  },
  {
   "cell_type": "code",
   "execution_count": 21,
   "metadata": {},
   "outputs": [
    {
     "name": "stdout",
     "output_type": "stream",
     "text": [
      "((32, 27) @ (27, 50)) + (1, 50) = ((32, 50))\n",
      "(32, 50) @ (50, 27) + (1, 27) = ((32, 27))\n",
      "(32, 27)\n"
     ]
    },
    {
     "data": {
      "text/plain": [
       "array([1., 1., 1., 1., 1., 1., 1., 1., 1., 1., 1., 1., 1., 1., 1., 1., 1.,\n",
       "       1., 1., 1., 1., 1., 1., 1., 1., 1., 1., 1., 1., 1., 1., 1.])"
      ]
     },
     "execution_count": 21,
     "metadata": {},
     "output_type": "execute_result"
    }
   ],
   "source": [
    "# activations for first layer\n",
    "z_1 = (x_batch @ W_1) + b_1  # pre-activations for layer 1\n",
    "A_1 = relu(z_1)  # activations for layer 1\n",
    "print(f\"({x_batch.shape} @ {W_1.shape}) + {b_1.shape} = ({A_1.shape})\")\n",
    "Z_2 = (A_1 @ W_2) + b_2  # pre-activations for layer 2\n",
    "print(f\"{A_1.shape} @ {W_2.shape} + {b_2.shape} = ({Z_2.shape})\")\n",
    "# A_Z is refered to as \"logits\"\n",
    "A_2 = softmax(Z_2)  # activations for layer 2 are probabilities\n",
    "# # our output size is 27 which happens to be the same as the input size (but in general doesn't\n",
    "# # have to be the same)\n",
    "# # so the result is 27 outputs for each of the 32 examples\n",
    "print(A_2.shape)\n",
    "A_2.sum(axis=1)"
   ]
  },
  {
   "cell_type": "code",
   "execution_count": 22,
   "metadata": {},
   "outputs": [
    {
     "data": {
      "text/plain": [
       "((32, 27), (32, 27))"
      ]
     },
     "execution_count": 22,
     "metadata": {},
     "output_type": "execute_result"
    }
   ],
   "source": [
    "# loss via cross-entropy\n",
    "# we want to minimize the cross-entropy loss\n",
    "# we want to maximize the log likelihood\n",
    "# we want to minimize the negative log likelihood\n",
    "# the negative log likelihood is the cross-entropy loss\n",
    "predicted_probabilities = A_2\n",
    "# each row is an example (batch size of 32), each column is a class probability (27 characters)\n",
    "# this means that each row should sum to 1\n",
    "assert (predicted_probabilities.sum(axis=1).round(7) == 1).all()\n",
    "# what is the probability associated with the actual/correct character for each example?\n",
    "predicted_probabilities.shape, y_batch.shape"
   ]
  },
  {
   "cell_type": "code",
   "execution_count": 23,
   "metadata": {},
   "outputs": [
    {
     "data": {
      "text/plain": [
       "array([0.03704604, 0.03703422, 0.03704669, 0.03707962, 0.03704387,\n",
       "       0.03705516, 0.03703479, 0.03701309, 0.03705521, 0.03705294,\n",
       "       0.03702826, 0.03704387, 0.03703125, 0.03704525, 0.03707254,\n",
       "       0.03704387, 0.03703706, 0.0370181 , 0.03704728, 0.03704484,\n",
       "       0.03699079, 0.03703334, 0.03702542, 0.03704438, 0.03704387,\n",
       "       0.03705072, 0.03705704, 0.03705362, 0.03702426, 0.03704956,\n",
       "       0.03702826, 0.03704387])"
      ]
     },
     "execution_count": 23,
     "metadata": {},
     "output_type": "execute_result"
    }
   ],
   "source": [
    "row_indices = np.arange(y_batch.shape[0])\n",
    "column_indices = np.argmax(y_batch, axis=1)\n",
    "pred_prob_of_actual = predicted_probabilities[row_indices, column_indices]\n",
    "assert len(pred_prob_of_actual) == y_batch.shape[0]\n",
    "pred_prob_of_actual"
   ]
  },
  {
   "cell_type": "code",
   "execution_count": 24,
   "metadata": {},
   "outputs": [
    {
     "name": "stdout",
     "output_type": "stream",
     "text": [
      "loss (negative log likelihood) = 3.2957239985861353\n"
     ]
    }
   ],
   "source": [
    "log_likelihood = np.log(pred_prob_of_actual).mean()\n",
    "negative_log_likelihood = -log_likelihood\n",
    "# I believe negative log likelihood is the same as cross-entropy loss\n",
    "print(f\"loss (negative log likelihood) = {negative_log_likelihood}\")"
   ]
  },
  {
   "cell_type": "markdown",
   "metadata": {},
   "source": [
    "## Chat GPT Explanation of Backpropegation \n",
    "\n",
    "### Goal of Finding the Derivative of the Loss Function\n",
    "\n",
    "The primary goal of finding the derivative (or gradient) of the loss function with respect to the network's parameters (weights and biases) is to understand how changes in those parameters affect the loss. This understanding allows us to adjust the parameters in a way that minimizes the loss, thereby improving the model's predictions. The process of using these derivatives to update the network's parameters is known as gradient descent.\n",
    "\n",
    "### Backpropagation Explained\n",
    "\n",
    "Backpropagation is the algorithm used for efficiently computing these gradients. It works by:\n",
    "\n",
    "1. **Performing a forward pass** through the network to calculate the outputs (and intermediate activations) for a given input.\n",
    "2. **Computing the loss** by comparing the network's output to the true labels.\n",
    "3. **Propagating the loss backward** through the network, layer by layer, to find the gradient of the loss with respect to each parameter.\n",
    "\n",
    "### Your Layers and Forward Pass\n",
    "\n",
    "Your setup defines a simple 2-layer neural network (1 hidden layer and 1 output layer). The weight initialization and biases look appropriate, using a small random value for weights to break symmetry and zeros for biases. \n",
    "\n",
    "The forward pass correctly calculates the pre-activation values (`Z_1` and `Z_2`), applies the ReLU activation function to the hidden layer, and uses the softmax function for the output layer to get a probability distribution.\n",
    "\n",
    "### Computing Negative Log Likelihood\n",
    "\n",
    "The negative log-likelihood loss function you've implemented calculates how likely the true labels are given the predictions. By minimizing this loss, you're effectively making the true labels more probable under the model's predictions. The calculation of `negative_log_likelihood` you've shown is correct for a batch of examples, where you first ensure the predicted probabilities sum to 1, then select the log probability of the true class for each example, and finally take the mean negative log likelihood across the batch.\n",
    "\n",
    "### Backpropagation from the Loss Function\n",
    "\n",
    "To perform backpropagation starting from the negative log likelihood:\n",
    "\n",
    "1. **Gradient of Negative Log Likelihood (NLL) with respect to \\(A_2\\)**:\n",
    "   The first step in backpropagation is to compute the derivative of the loss function with respect to the outputs of the network (\\(A_2\\)). For the negative log likelihood combined with softmax, this gradient simplifies to \\((A_2 - Y)\\), where \\(A_2\\) is the predicted probabilities and \\(Y\\) is the one-hot encoded true labels.\n",
    "\n",
    "   https://towardsdatascience.com/derivative-of-the-softmax-function-and-the-categorical-cross-entropy-loss-ffceefc081d1\n",
    "\n",
    "2. **Backpropagate through Layer 2**:\n",
    "   - **Gradient w.r.t. \\(W_2\\)**: Use \\(\\frac{\\partial \\text{NLL}}{\\partial W_2} = A_1^T \\cdot (A_2 - Y)\\)\n",
    "   - **Gradient w.r.t. \\(b_2\\)**: Use \\(\\frac{\\partial \\text{NLL}}{\\partial b_2} = \\sum(A_2 - Y)\\)\n",
    "   - **Gradient w.r.t. \\(A_1\\)**: Needed for further backpropagation, \\(\\frac{\\partial \\text{NLL}}{\\partial A_1} = (A_2 - Y) \\cdot W_2^T\\)\n",
    "\n",
    "3. **Backpropagate through Layer 1**:\n",
    "   Since \\(A_1 = \\text{ReLU}(Z_1)\\), you need the gradient of ReLU to continue. The ReLU derivative is 1 for positive inputs and 0 for non-positive inputs.\n",
    "   - **Gradient w.r.t. \\(Z_1\\)**: \\(\\frac{\\partial \\text{NLL}}{\\partial Z_1} = \\frac{\\partial \\text{NLL}}{\\partial A_1} \\cdot \\text{ReLU}'(Z_1)\\)\n",
    "   - **Gradient w.r.t. \\(W_1\\)** and \\(b_1\\) follow similarly to \\(W_2\\) and \\(b_2\\).\n",
    "\n",
    "### Key Considerations\n",
    "\n",
    "- Ensure gradients are computed correctly for each layer, considering the dimensions of matrices during multiplication.\n",
    "- When implementing backpropagation, remember to average gradients over the batch size if your loss was computed as a mean over the batch.\n",
    "- The negative log likelihood and softmax make a good pair for multi-class classification due to the simplicity of their gradient computation, as discussed.\n",
    "\n",
    "If you have any specific questions about the implementation details or need further clarification on any step, feel free to ask!"
   ]
  },
  {
   "cell_type": "markdown",
   "metadata": {},
   "source": [
    "## ChatGPT Explanation of Derivative of Softmax and Negative Log Likelihood\n",
    "\n",
    "### Softmax Function\n",
    "\n",
    "The softmax function is applied to logits (the raw outputs from the neural network's last linear layer) to convert them into probabilities. For a given vector of logits \\(Z\\) for a single sample, the softmax function for the \\(i\\)-th element is defined as:\n",
    "\n",
    "\\[ \\sigma(Z)_i = \\frac{e^{Z_i}}{\\sum_{j}1 e^{Z_j}} \\]\n",
    "\n",
    "This results in a probability distribution over classes, where each element \\( \\sigma(Z)_i \\) represents the model's predicted probability that the sample belongs to class \\(i\\).\n",
    "\n",
    "### Negative Log Likelihood (NLL)\n",
    "\n",
    "The NLL for multi-class classification, when using the softmax probabilities, is defined as:\n",
    "\n",
    "\\[ L = -\\sum_{i} Y_i \\log(\\sigma(Z)_i) \\]\n",
    "\n",
    "where \\(Y_i\\) is the true distribution (typically one-hot encoded), and \\(\\log(\\sigma(Z)_i)\\) is the logarithm of the predicted probability for class \\(i\\).\n",
    "\n",
    "### Derivation of the Gradient Simplification\n",
    "\n",
    "When you combine the softmax function with the NLL and compute the derivative of the loss \\(L\\) with respect to the logits \\(Z\\), you're interested in how changes in \\(Z\\) affect the loss. For a specific class \\(i\\), this derivative can be shown through calculus to simplify to the difference between the predicted probabilities and the actual labels:\n",
    "\n",
    "\\[ \\frac{\\partial L}{\\partial Z_i} = \\sigma(Z)_i - Y_i \\]\n",
    "\n",
    "Here’s an intuitive breakdown of the derivation:\n",
    "\n",
    "1. **Softmax Gradient**: First, you find the derivative of the softmax function with respect to its inputs. This involves some calculus, especially because the softmax function of a particular class depends not only on its own logit but also on the sum of exponentials of all logits. The result shows how the probability of class \\(i\\) changes with a small change in any logit \\(Z_j\\).\n",
    "\n",
    "2. **Chain Rule Application**: Then, by applying the chain rule, you calculate the derivative of the NLL loss with respect to the logits. This involves taking into account how a change in each logit \\(Z_j\\) affects all the softmax probabilities, and in turn, how these changes in probabilities affect the NLL loss.\n",
    "\n",
    "3. **Simplification**: The detailed calculus shows that, for the true class (\\(Y_i = 1\\)), the derivative of the NLL loss with respect to its logit is the predicted probability minus one. For all other classes (\\(Y_i = 0\\)), it's just the predicted probability. When you sum up these effects for all classes, the result for each logit \\(Z_i\\) ends up being the predicted probability of class \\(i\\) minus the true label \\(Y_i\\).\n",
    "\n",
    "### Why It's Elegant\n",
    "\n",
    "This result is particularly elegant and useful for a few reasons:\n",
    "\n",
    "- **Simplicity**: The gradient \\((A_2 - Y)\\) is straightforward to compute and understand. It directly reflects the difference between what the model predicts and the actual labels.\n",
    "- **Efficiency**: This simplification allows for efficient computation of gradients without needing to explicitly calculate the derivative of the softmax and NLL separately.\n",
    "- **Intuitiveness**: The gradient essentially tells you how to adjust the logits to reduce the loss. If a class's predicted probability is too high compared to the true label, the corresponding logit needs to decrease, and vice versa.\n",
    "\n",
    "This simplification is a cornerstone of training neural networks for classification tasks, as it directly connects the model's predictions with the direction and magnitude of adjustments needed to reduce the error."
   ]
  },
  {
   "cell_type": "code",
   "execution_count": 25,
   "metadata": {},
   "outputs": [],
   "source": [
    "# derivative of loss w.r.t. pre-activations of layer 2\n",
    "# specifically, we want to know how the loss changes with respect to the pre-activations of layer 2\n",
    "# i.e. the logits\n",
    "# because of the chain rule, we can break this down into two steps\n",
    "# 1. derivative of loss w.r.t. activations of layer 2 (i.e. the outputs of the softmax function)\n",
    "# 2. derivative of activations of layer 2 w.r.t. pre-activations of layer 2\n",
    "# after some calculus, we find that the derivative of the cross-entropy loss w.r.t. the\n",
    "# pre-activations of layer 2 is simply the difference between the predicted probabilities and the\n",
    "# actual probabilities\n",
    "dZ_2 = A_2 - y_batch\n",
    "\n",
    "# Step 2: Gradients of loss w.r.t. W_2 and b_2\n",
    "dW_2 = A_1.T @ dZ_2 / y_batch.shape[0]\n",
    "db_2 = np.sum(dZ_2, axis=0, keepdims=True) / y_batch.shape[0]\n",
    "\n",
    "# Step 3: Backpropagation through ReLU activation\n",
    "dA_1 = dZ_2 @ W_2.T\n",
    "dZ_1 = dA_1 * (z_1 > 0)  # Derivative of ReLU is 1 if Z_1 > 0 else 0\n",
    "\n",
    "# Step 4: Gradients of loss w.r.t. W_1 and b_1\n",
    "dW_1 = x_batch.T @ dZ_1 / y_batch.shape[0]\n",
    "db_1 = np.sum(dZ_1, axis=0, keepdims=True) / y_batch.shape[0]\n",
    "\n",
    "# Step 5: Update the weights and biases\n",
    "learning_rate = 0.01\n",
    "W_1 -= learning_rate * dW_1\n",
    "b_1 -= learning_rate * db_1\n",
    "W_2 -= learning_rate * dW_2\n",
    "b_2 -= learning_rate * db_2\n",
    "\n"
   ]
  },
  {
   "cell_type": "markdown",
   "metadata": {},
   "source": [
    "# Putting it all together"
   ]
  },
  {
   "cell_type": "code",
   "execution_count": 90,
   "metadata": {},
   "outputs": [],
   "source": [
    "%reset -f"
   ]
  },
  {
   "cell_type": "code",
   "execution_count": 91,
   "metadata": {},
   "outputs": [],
   "source": [
    "import numpy as np\n",
    "import matplotlib.pyplot as plt\n",
    "\n",
    "from data import get_names"
   ]
  },
  {
   "cell_type": "code",
   "execution_count": 92,
   "metadata": {},
   "outputs": [
    {
     "name": "stdout",
     "output_type": "stream",
     "text": [
      "['emma', 'olivia', 'ava', 'isabella', 'sophia']\n"
     ]
    }
   ],
   "source": [
    "words = get_names()\n",
    "print(words[:5])"
   ]
  },
  {
   "cell_type": "code",
   "execution_count": 93,
   "metadata": {},
   "outputs": [
    {
     "name": "stdout",
     "output_type": "stream",
     "text": [
      "['.', 'a', 'b', 'c', 'd', 'e', 'f', 'g', 'h', 'i', 'j', 'k', 'l', 'm', 'n', 'o', 'p', 'q', 'r', 's', 't', 'u', 'v', 'w', 'x', 'y', 'z']\n",
      "27\n",
      "{'.': 0, 'a': 1, 'b': 2, 'c': 3, 'd': 4, 'e': 5, 'f': 6, 'g': 7, 'h': 8, 'i': 9, 'j': 10, 'k': 11, 'l': 12, 'm': 13, 'n': 14, 'o': 15, 'p': 16, 'q': 17, 'r': 18, 's': 19, 't': 20, 'u': 21, 'v': 22, 'w': 23, 'x': 24, 'y': 25, 'z': 26}\n"
     ]
    }
   ],
   "source": [
    "characters = ['.', *sorted({c for w in words for c in w})]\n",
    "print(characters)\n",
    "print(len(characters))\n",
    "index = {\n",
    "    c:i\n",
    "    for i, c in enumerate(characters)\n",
    "}\n",
    "index\n",
    "print(index)"
   ]
  },
  {
   "cell_type": "code",
   "execution_count": 94,
   "metadata": {},
   "outputs": [
    {
     "name": "stdout",
     "output_type": "stream",
     "text": [
      "[ 0  5 13 13  1  0 15 12  9 22]\n",
      "[ 5 13 13  1  0 15 12  9 22  9]\n"
     ]
    }
   ],
   "source": [
    "# create the training set of all of the bigrams\n",
    "# x is the input, y is the target (i.e. the next character)\n",
    "x, y = [], []\n",
    "training_data = []\n",
    "for w in words:\n",
    "    chars = ['.',  *w, '.']\n",
    "    for c1, c2 in zip(chars, chars[1:]):\n",
    "        x.append(index[c1])\n",
    "        y.append(index[c2])\n",
    "\n",
    "x = np.array(x)\n",
    "y = np.array(y)\n",
    "\n",
    "print(x[:10])\n",
    "print(y[:10])"
   ]
  },
  {
   "cell_type": "code",
   "execution_count": 95,
   "metadata": {},
   "outputs": [
    {
     "name": "stdout",
     "output_type": "stream",
     "text": [
      "[[1. 0. 0. 0. 0. 0. 0. 0. 0. 0. 0. 0. 0. 0. 0. 0. 0. 0. 0. 0. 0. 0. 0. 0.\n",
      "  0. 0. 0.]\n",
      " [0. 0. 0. 0. 0. 1. 0. 0. 0. 0. 0. 0. 0. 0. 0. 0. 0. 0. 0. 0. 0. 0. 0. 0.\n",
      "  0. 0. 0.]\n",
      " [0. 0. 0. 0. 0. 0. 0. 0. 0. 0. 0. 0. 0. 1. 0. 0. 0. 0. 0. 0. 0. 0. 0. 0.\n",
      "  0. 0. 0.]\n",
      " [0. 0. 0. 0. 0. 0. 0. 0. 0. 0. 0. 0. 0. 1. 0. 0. 0. 0. 0. 0. 0. 0. 0. 0.\n",
      "  0. 0. 0.]\n",
      " [0. 1. 0. 0. 0. 0. 0. 0. 0. 0. 0. 0. 0. 0. 0. 0. 0. 0. 0. 0. 0. 0. 0. 0.\n",
      "  0. 0. 0.]\n",
      " [1. 0. 0. 0. 0. 0. 0. 0. 0. 0. 0. 0. 0. 0. 0. 0. 0. 0. 0. 0. 0. 0. 0. 0.\n",
      "  0. 0. 0.]]\n"
     ]
    },
    {
     "data": {
      "text/plain": [
       "<matplotlib.image.AxesImage at 0xffff662ea050>"
      ]
     },
     "execution_count": 95,
     "metadata": {},
     "output_type": "execute_result"
    },
    {
     "data": {
      "image/png": "[encoded data removed]",
      "text/plain": [
       "<Figure size 640x480 with 1 Axes>"
      ]
     },
     "metadata": {},
     "output_type": "display_data"
    }
   ],
   "source": [
    "# encode\n",
    "def one_hot_encode(index: int) -> np.array:\n",
    "    \"\"\"Return a one-hot encoded vector of the given index.\"\"\"\n",
    "    vector = np.zeros(len(characters))\n",
    "    vector[index] = 1\n",
    "    return vector\n",
    "\n",
    "x_encoded = np.array([one_hot_encode(i) for i in x])\n",
    "y_encoded = np.array([one_hot_encode(i) for i in y])\n",
    "\n",
    "print(x_encoded[:6])\n",
    "plt.imshow(x_encoded[0:10])"
   ]
  },
  {
   "cell_type": "code",
   "execution_count": 96,
   "metadata": {},
   "outputs": [],
   "source": [
    "def relu(z: np.array) -> np.array:\n",
    "    \"\"\"Return the ReLU of the input.\"\"\"\n",
    "    return np.maximum(0, z)\n",
    "\n",
    "def relu_derivative(z: np.array) -> np.array:\n",
    "    \"\"\"Return the derivative of the ReLU of the input.\"\"\"\n",
    "    return (z > 0).astype(float)\n",
    "\n",
    "def softmax(x: np.array) -> np.array:\n",
    "    \"\"\"\n",
    "    Return the softmax of the input.\n",
    "\n",
    "    The softmax function is a generalization of the logistic function that \"squashes\" a\n",
    "    K-dimensional\n",
    "    vector z of arbitrary real values to a K-dimensional vector sigma(z) of real values in the\n",
    "    range (0, 1) that add up to 1.\n",
    "\n",
    "    In other words, the softmax function transforms a vector of real values into a probability\n",
    "    distribution.\n",
    "    \"\"\"\n",
    "    exp_x = np.exp(x)\n",
    "    return exp_x / exp_x.sum(axis=1).reshape(-1, 1)\n",
    "\n",
    "def forward_pass(x: np.array, params: dict) -> tuple[np.array, dict]:\n",
    "    \"\"\"\n",
    "    Return the output of a forward pass through the network, as well as the cache.\n",
    "\n",
    "    The cache contains the pre-activations and activations for each layer.\n",
    "    \"\"\"\n",
    "    W_1 = params[\"W_1\"]\n",
    "    b_1 = params[\"b_1\"]\n",
    "    W_2 = params[\"W_2\"]\n",
    "    b_2 = params[\"b_2\"]\n",
    "    Z_1 = (x @ W_1) + b_1  # pre-activations for layer 1\n",
    "    A_1 = relu(Z_1)  # activations for layer 1\n",
    "    Z_2 = (A_1 @ W_2) + b_2  # pre-activations for layer 2\n",
    "    # A_Z is refered to as \"logits\"\n",
    "    A_2 = softmax(Z_2)  # activations for layer 2 are probabilities\n",
    "    cache = {\n",
    "        \"Z_1\": Z_1,\n",
    "        \"A_1\": A_1,\n",
    "        \"Z_2\": Z_2,\n",
    "        \"A_2\": A_2,\n",
    "    }\n",
    "    return A_2, cache\n",
    "\n",
    "def backward_pass(x: np.array, y: np.array, params: dict, cache: dict) -> dict:\n",
    "    \"\"\"\n",
    "    Return the gradients of the loss w.r.t. the parameters of the network.\n",
    "\n",
    "    The gradients are computed using backpropagation.\n",
    "    \"\"\"\n",
    "    m = x.shape[0]\n",
    "    W_2 = params['W_2']\n",
    "    A_1 = cache['A_1']\n",
    "    A_2 = cache['A_2']\n",
    "    Z_1 = cache['Z_1']\n",
    "    # step 1: Gradients of loss w.r.t. pre-activations of layer 2\n",
    "    dZ_2 = A_2 - y_batch\n",
    "    # Step 2: Gradients of loss w.r.t. W_2 and b_2\n",
    "    dW_2 = (A_1.T @ dZ_2) / m\n",
    "    db_2 = np.sum(dZ_2, axis=0, keepdims=True) / m\n",
    "    # Step 3: Backpropagation through ReLU activation\n",
    "    dA_1 = dZ_2 @ W_2.T\n",
    "    dZ_1 = dA_1 * relu_derivative(Z_1)\n",
    "    # Step 4: Gradients of loss w.r.t. W_1 and b_1\n",
    "    dW_1 = x.T @ dZ_1 / m\n",
    "    db_1 = np.sum(dZ_1, axis=0, keepdims=True) / m\n",
    "    return {\n",
    "        \"dW_1\": dW_1,\n",
    "        \"db_1\": db_1,\n",
    "        \"dW_2\": dW_2,\n",
    "        \"db_2\": db_2,\n",
    "    }\n",
    "\n",
    "def update_parameters(params, grads, learning_rate):\n",
    "    params['W_1'] -= learning_rate * grads['dW_1']\n",
    "    params['b_1'] -= learning_rate * grads['db_1']\n",
    "    params['W_2'] -= learning_rate * grads['dW_2']\n",
    "    params['b_2'] -= learning_rate * grads['db_2']\n",
    "    return params\n",
    "\n",
    "def compute_loss(pred_probs: np.array, y_batch: np.array) -> float:\n",
    "    row_indices = np.arange(y_batch.shape[0])\n",
    "    column_indices = np.argmax(y_batch, axis=1)\n",
    "    pred_prob_of_actual = pred_probs[row_indices, column_indices]\n",
    "    return -np.log(pred_prob_of_actual).mean()"
   ]
  },
  {
   "cell_type": "code",
   "execution_count": 119,
   "metadata": {},
   "outputs": [
    {
     "name": "stdout",
     "output_type": "stream",
     "text": [
      "(27, 50)\n",
      "(1, 50)\n",
      "(50, 27)\n",
      "(1, 27)\n"
     ]
    }
   ],
   "source": [
    "seed = 42\n",
    "rng = np.random.default_rng(seed)\n",
    "\n",
    "input_size = len(characters)\n",
    "hidden_size = 50\n",
    "output_size = len(characters)\n",
    "\n",
    "# weights between input and hidden layer\n",
    "W_1 = rng.normal(size=(input_size, hidden_size)) * 0.01\n",
    "# biases of the hidden layer\n",
    "b_1 = np.zeros((1, hidden_size))\n",
    "# weights between hidden layer and output\n",
    "W_2 = rng.normal(size=(hidden_size, output_size)) * 0.01\n",
    "# biases of the output layer\n",
    "b_2 = np.zeros((1, output_size))\n",
    "\n",
    "print(W_1.shape)\n",
    "print(b_1.shape)\n",
    "print(W_2.shape)\n",
    "print(b_2.shape)"
   ]
  },
  {
   "cell_type": "code",
   "execution_count": 121,
   "metadata": {},
   "outputs": [
    {
     "data": {
      "image/png": "[encoded data removed]",
      "text/plain": [
       "<Figure size 640x480 with 1 Axes>"
      ]
     },
     "metadata": {},
     "output_type": "display_data"
    },
    {
     "data": {
      "image/png": "[encoded data removed]",
      "text/plain": [
       "<Figure size 640x480 with 1 Axes>"
      ]
     },
     "metadata": {},
     "output_type": "display_data"
    }
   ],
   "source": [
    "plt.imshow(W_1)\n",
    "plt.show()\n",
    "plt.imshow(W_2)\n",
    "plt.show()"
   ]
  },
  {
   "cell_type": "code",
   "execution_count": 122,
   "metadata": {},
   "outputs": [
    {
     "name": "stdout",
     "output_type": "stream",
     "text": [
      "Starting loss = 3.295783768943026\n"
     ]
    }
   ],
   "source": [
    "params = {\n",
    "    \"W_1\": W_1,\n",
    "    \"b_1\": b_1,\n",
    "    \"W_2\": W_2,\n",
    "    \"b_2\": b_2,\n",
    "}\n",
    "\n",
    "probs, cache = forward_pass(x_encoded, params)\n",
    "loss = compute_loss(y_batch=y_encoded, pred_probs=probs)\n",
    "print(f\"Starting loss = {loss}\")"
   ]
  },
  {
   "cell_type": "code",
   "execution_count": 125,
   "metadata": {},
   "outputs": [
    {
     "name": "stdout",
     "output_type": "stream",
     "text": [
      "Epoch 0, batch 000000, loss 2.731173612610954\n",
      "Epoch 0, batch 100000, loss 2.4287591665090105\n",
      "Epoch 0, batch 200000, loss 2.4041557395978\n",
      "Epoch 1, batch 000000, loss 2.684452410561038\n",
      "Epoch 1, batch 100000, loss 2.3867444802009437\n",
      "Epoch 1, batch 200000, loss 2.4001275888070763\n",
      "Epoch 2, batch 000000, loss 2.653365425439978\n",
      "Epoch 2, batch 100000, loss 2.360256924728069\n",
      "Epoch 2, batch 200000, loss 2.4004025367763098\n",
      "Epoch 3, batch 000000, loss 2.6305378182096417\n",
      "Epoch 3, batch 100000, loss 2.3413990147343267\n",
      "Epoch 3, batch 200000, loss 2.4027378985437755\n",
      "Epoch 4, batch 000000, loss 2.612633339088296\n",
      "Epoch 4, batch 100000, loss 2.3268009162608583\n",
      "Epoch 4, batch 200000, loss 2.4061035764164256\n",
      "Epoch 5, batch 000000, loss 2.59794542877027\n",
      "Epoch 5, batch 100000, loss 2.3149246189983783\n",
      "Epoch 5, batch 200000, loss 2.409983626089957\n",
      "Epoch 6, batch 000000, loss 2.585611134542348\n",
      "Epoch 6, batch 100000, loss 2.3049822005577947\n",
      "Epoch 6, batch 200000, loss 2.414070504862565\n",
      "Epoch 7, batch 000000, loss 2.5750530699744854\n",
      "Epoch 7, batch 100000, loss 2.2965600482238395\n",
      "Epoch 7, batch 200000, loss 2.418186196028886\n",
      "Epoch 8, batch 000000, loss 2.5659024247076694\n",
      "Epoch 8, batch 100000, loss 2.289366603369846\n",
      "Epoch 8, batch 200000, loss 2.422205214145109\n",
      "Epoch 9, batch 000000, loss 2.55793964834875\n",
      "Epoch 9, batch 100000, loss 2.283178325422083\n",
      "Epoch 9, batch 200000, loss 2.426062882286069\n",
      "Epoch 10, batch 000000, loss 2.5509922029851806\n",
      "Epoch 10, batch 100000, loss 2.2778298493416695\n",
      "Epoch 10, batch 200000, loss 2.429737898705529\n",
      "Epoch 11, batch 000000, loss 2.5448971325457364\n",
      "Epoch 11, batch 100000, loss 2.2731811876232815\n",
      "Epoch 11, batch 200000, loss 2.433181861993879\n",
      "Epoch 12, batch 000000, loss 2.539557449351929\n",
      "Epoch 12, batch 100000, loss 2.269127299976115\n",
      "Epoch 12, batch 200000, loss 2.436406334166609\n",
      "Epoch 13, batch 000000, loss 2.5348704262043817\n",
      "Epoch 13, batch 100000, loss 2.2655733360515944\n",
      "Epoch 13, batch 200000, loss 2.4394111240636884\n",
      "Epoch 14, batch 000000, loss 2.5307511202680573\n",
      "Epoch 14, batch 100000, loss 2.2624432976316857\n",
      "Epoch 14, batch 200000, loss 2.4422001737902947\n",
      "Epoch 15, batch 000000, loss 2.527126707925351\n",
      "Epoch 15, batch 100000, loss 2.259674751914729\n",
      "Epoch 15, batch 200000, loss 2.4447843022933275\n",
      "Epoch 16, batch 000000, loss 2.5239372174983385\n",
      "Epoch 16, batch 100000, loss 2.257215026222881\n",
      "Epoch 16, batch 200000, loss 2.447175387490242\n",
      "Epoch 17, batch 000000, loss 2.5211289410476674\n",
      "Epoch 17, batch 100000, loss 2.2550187865503406\n",
      "Epoch 17, batch 200000, loss 2.4493872290602052\n",
      "Epoch 18, batch 000000, loss 2.518653896801328\n",
      "Epoch 18, batch 100000, loss 2.253041136670964\n",
      "Epoch 18, batch 200000, loss 2.4514297281057855\n",
      "Epoch 19, batch 000000, loss 2.5164700151464983\n",
      "Epoch 19, batch 100000, loss 2.2512544681191904\n",
      "Epoch 19, batch 200000, loss 2.453313565868096\n"
     ]
    }
   ],
   "source": [
    "learning_rate = 0.0001\n",
    "epochs = 20\n",
    "batch_size = 32\n",
    "\n",
    "for epoch in range(epochs):\n",
    "    for i in range(0, x_encoded.shape[0], batch_size):\n",
    "        x_batch = x_encoded[i:i+batch_size]\n",
    "        y_batch = y_encoded[i:i+batch_size]\n",
    "        A2, cache = forward_pass(x_batch, params)\n",
    "        loss = compute_loss(y_batch=y_batch, pred_probs=A2)\n",
    "        grads = backward_pass(x_batch, y_batch, params, cache)\n",
    "        params = update_parameters(params, grads, learning_rate)\n",
    "\n",
    "        if i % 100_000 == 0:\n",
    "            print(f\"Epoch {epoch}, batch {i:06}, loss {loss}\")"
   ]
  },
  {
   "cell_type": "code",
   "execution_count": 43,
   "metadata": {},
   "outputs": [
    {
     "data": {
      "image/png": "[encoded data removed]",
      "text/plain": [
       "<Figure size 640x480 with 1 Axes>"
      ]
     },
     "metadata": {},
     "output_type": "display_data"
    },
    {
     "data": {
      "image/png": "[encoded data removed]",
      "text/plain": [
       "<Figure size 640x480 with 1 Axes>"
      ]
     },
     "metadata": {},
     "output_type": "display_data"
    }
   ],
   "source": [
    "plt.imshow(W_1)\n",
    "plt.show()\n",
    "plt.imshow(W_2)\n",
    "plt.show()"
   ]
  },
  {
   "cell_type": "code",
   "execution_count": null,
   "metadata": {},
   "outputs": [],
   "source": []
  }
 ],
 "metadata": {
  "kernelspec": {
   "display_name": "Python 3",
   "language": "python",
   "name": "python3"
  },
  "language_info": {
   "codemirror_mode": {
    "name": "ipython",
    "version": 3
   },
   "file_extension": ".py",
   "mimetype": "text/x-python",
   "name": "python",
   "nbconvert_exporter": "python",
   "pygments_lexer": "ipython3",
   "version": "3.11.8"
  }
 },
 "nbformat": 4,
 "nbformat_minor": 2
}
