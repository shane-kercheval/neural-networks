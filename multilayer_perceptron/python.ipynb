{
 "cells": [
  {
   "cell_type": "markdown",
   "metadata": {},
   "source": [
    "# Multilayer Perception implemented in numpy"
   ]
  },
  {
   "cell_type": "code",
   "execution_count": 1,
   "metadata": {},
   "outputs": [],
   "source": [
    "import numpy as np\n",
    "import matplotlib.pyplot as plt\n",
    "\n",
    "from data import get_names"
   ]
  },
  {
   "cell_type": "code",
   "execution_count": 2,
   "metadata": {},
   "outputs": [
    {
     "name": "stdout",
     "output_type": "stream",
     "text": [
      "['emma', 'olivia', 'ava', 'isabella', 'sophia']\n"
     ]
    }
   ],
   "source": [
    "words = get_names()\n",
    "print(words[:5])"
   ]
  },
  {
   "cell_type": "markdown",
   "metadata": {},
   "source": [
    "- bigram character language model\n",
    "- receives a single character as input; output is the probability distribution of the next character in the sequence\n",
    "- using gradient descent "
   ]
  },
  {
   "cell_type": "code",
   "execution_count": 3,
   "metadata": {},
   "outputs": [
    {
     "name": "stdout",
     "output_type": "stream",
     "text": [
      "['.', 'a', 'b', 'c', 'd', 'e', 'f', 'g', 'h', 'i', 'j', 'k', 'l', 'm', 'n', 'o', 'p', 'q', 'r', 's', 't', 'u', 'v', 'w', 'x', 'y', 'z']\n",
      "27\n",
      "{'.': 0, 'a': 1, 'b': 2, 'c': 3, 'd': 4, 'e': 5, 'f': 6, 'g': 7, 'h': 8, 'i': 9, 'j': 10, 'k': 11, 'l': 12, 'm': 13, 'n': 14, 'o': 15, 'p': 16, 'q': 17, 'r': 18, 's': 19, 't': 20, 'u': 21, 'v': 22, 'w': 23, 'x': 24, 'y': 25, 'z': 26}\n"
     ]
    }
   ],
   "source": [
    "characters = ['.', *sorted({c for w in words for c in w})]\n",
    "print(characters)\n",
    "print(len(characters))\n",
    "index = {\n",
    "    c:i\n",
    "    for i, c in enumerate(characters)\n",
    "}\n",
    "index\n",
    "print(index)"
   ]
  },
  {
   "cell_type": "code",
   "execution_count": 4,
   "metadata": {},
   "outputs": [
    {
     "name": "stdout",
     "output_type": "stream",
     "text": [
      "[ 0  5 13 13  1  0 15 12  9 22]\n",
      "[ 5 13 13  1  0 15 12  9 22  9]\n"
     ]
    }
   ],
   "source": [
    "# create the training set of all of the bigrams\n",
    "# x is the input, y is the target (i.e. the next character)\n",
    "x, y = [], []\n",
    "training_data = []\n",
    "for w in words:\n",
    "    chars = ['.',  *w, '.']\n",
    "    for c1, c2 in zip(chars, chars[1:]):\n",
    "        x.append(index[c1])\n",
    "        y.append(index[c2])\n",
    "\n",
    "x = np.array(x)\n",
    "y = np.array(y)\n",
    "\n",
    "print(x[:10])\n",
    "print(y[:10])"
   ]
  },
  {
   "cell_type": "code",
   "execution_count": 5,
   "metadata": {},
   "outputs": [
    {
     "name": "stdout",
     "output_type": "stream",
     "text": [
      "[[1. 0. 0. 0. 0. 0. 0. 0. 0. 0. 0. 0. 0. 0. 0. 0. 0. 0. 0. 0. 0. 0. 0. 0.\n",
      "  0. 0. 0.]\n",
      " [0. 0. 0. 0. 0. 1. 0. 0. 0. 0. 0. 0. 0. 0. 0. 0. 0. 0. 0. 0. 0. 0. 0. 0.\n",
      "  0. 0. 0.]\n",
      " [0. 0. 0. 0. 0. 0. 0. 0. 0. 0. 0. 0. 0. 1. 0. 0. 0. 0. 0. 0. 0. 0. 0. 0.\n",
      "  0. 0. 0.]\n",
      " [0. 0. 0. 0. 0. 0. 0. 0. 0. 0. 0. 0. 0. 1. 0. 0. 0. 0. 0. 0. 0. 0. 0. 0.\n",
      "  0. 0. 0.]\n",
      " [0. 1. 0. 0. 0. 0. 0. 0. 0. 0. 0. 0. 0. 0. 0. 0. 0. 0. 0. 0. 0. 0. 0. 0.\n",
      "  0. 0. 0.]\n",
      " [1. 0. 0. 0. 0. 0. 0. 0. 0. 0. 0. 0. 0. 0. 0. 0. 0. 0. 0. 0. 0. 0. 0. 0.\n",
      "  0. 0. 0.]]\n"
     ]
    },
    {
     "data": {
      "text/plain": [
       "<matplotlib.image.AxesImage at 0xffff6a31c750>"
      ]
     },
     "execution_count": 5,
     "metadata": {},
     "output_type": "execute_result"
    },
    {
     "data": {
      "image/png": "[encoded data removed]",
      "text/plain": [
       "<Figure size 640x480 with 1 Axes>"
      ]
     },
     "metadata": {},
     "output_type": "display_data"
    }
   ],
   "source": [
    "# encode\n",
    "def one_hot_encode(index: int) -> np.array:\n",
    "    \"\"\"Return a one-hot encoded vector of the given index.\"\"\"\n",
    "    vector = np.zeros(len(characters))\n",
    "    vector[index] = 1\n",
    "    return vector\n",
    "\n",
    "x_encoded = np.array([one_hot_encode(i) for i in x])\n",
    "y_encoded = np.array([one_hot_encode(i) for i in y])\n",
    "\n",
    "print(x_encoded[:6])\n",
    "plt.imshow(x_encoded[0:10])"
   ]
  },
  {
   "cell_type": "code",
   "execution_count": 20,
   "metadata": {},
   "outputs": [
    {
     "name": "stdout",
     "output_type": "stream",
     "text": [
      "(50, 27)\n",
      "(50, 1)\n",
      "(27, 50)\n",
      "(27, 1)\n"
     ]
    }
   ],
   "source": [
    "seed = 42\n",
    "rng = np.random.default_rng(seed)\n",
    "\n",
    "input_size = len(characters)\n",
    "hidden_size = 50\n",
    "output_size = len(characters)\n",
    "\n",
    "# weights between input and hidden layer\n",
    "W_1 = rng.normal(size=(hidden_size, input_size)) * 0.01\n",
    "# biases of the hidden layer\n",
    "b_1 = np.zeros((hidden_size, 1))\n",
    "W_2 = rng.normal(size=(output_size, hidden_size)) * 0.01\n",
    "b_2 = np.zeros((output_size, 1))\n",
    "\n",
    "print(W_1.shape)\n",
    "print(b_1.shape)\n",
    "print(W_2.shape)\n",
    "print(b_2.shape)"
   ]
  },
  {
   "cell_type": "code",
   "execution_count": 7,
   "metadata": {},
   "outputs": [
    {
     "data": {
      "text/plain": [
       "<matplotlib.image.AxesImage at 0xffff6a390290>"
      ]
     },
     "execution_count": 7,
     "metadata": {},
     "output_type": "execute_result"
    },
    {
     "data": {
      "image/png": "[encoded data removed]",
      "text/plain": [
       "<Figure size 640x480 with 1 Axes>"
      ]
     },
     "metadata": {},
     "output_type": "display_data"
    }
   ],
   "source": [
    "plt.imshow(W_1)"
   ]
  },
  {
   "cell_type": "markdown",
   "metadata": {},
   "source": [
    "---"
   ]
  },
  {
   "cell_type": "markdown",
   "metadata": {},
   "source": [
    "# Forward Pass"
   ]
  },
  {
   "cell_type": "markdown",
   "metadata": {},
   "source": [
    "## Relationship between \"fully connected\" layers and matrix multiplication "
   ]
  },
  {
   "cell_type": "code",
   "execution_count": 8,
   "metadata": {},
   "outputs": [
    {
     "name": "stdout",
     "output_type": "stream",
     "text": [
      "We have a batch of 32 examples, each with 27 features (one hot encoding of characters).\n"
     ]
    }
   ],
   "source": [
    "x_batch = x_encoded[:32]\n",
    "x_batch.shape\n",
    "print(f\"We have a batch of {x_batch.shape[0]} examples, each with {x_batch.shape[1]} features (one hot encoding of characters).\")  # noqa"
   ]
  },
  {
   "cell_type": "markdown",
   "metadata": {},
   "source": [
    "We need to calculate the \"pre-activation values\" which is a value that connects each neuron to an example in the batch.\n",
    "\n",
    "The `pre-activations` are a matrix of values corresponding to the neurons in the hidden layer (`50`) and the batch size (`32`).\n",
    "\n",
    "The pre-activations are calculated by matrix-multiplying the weights of the input/hidden layer by the batch examples/features and adding the bias."
   ]
  },
  {
   "cell_type": "code",
   "execution_count": 9,
   "metadata": {},
   "outputs": [
    {
     "data": {
      "text/plain": [
       "(50, 32)"
      ]
     },
     "execution_count": 9,
     "metadata": {},
     "output_type": "execute_result"
    }
   ],
   "source": [
    "pre_activations = ((W_1 @ x_batch.T) + b_1)\n",
    "pre_activations.shape"
   ]
  },
  {
   "cell_type": "code",
   "execution_count": 10,
   "metadata": {},
   "outputs": [
    {
     "name": "stdout",
     "output_type": "stream",
     "text": [
      "dot(W, x.T) = dot((neurons, input), (input, batch)) = dot((50, 27), (27, 32))\n"
     ]
    }
   ],
   "source": [
    "print(f\"dot(W, x.T) = dot((neurons, input), (input, batch)) = dot({W_1.shape}, {x_batch.T.shape})\")"
   ]
  },
  {
   "cell_type": "code",
   "execution_count": 11,
   "metadata": {},
   "outputs": [
    {
     "name": "stdout",
     "output_type": "stream",
     "text": [
      "dot(W, x.T) = dot((neurons, input), (input, batch)) = dot((50, 27), (27, 32)) = ((50, 32))\n"
     ]
    }
   ],
   "source": [
    "pre_activations_hidden = np.dot(W_1, x_batch.T)\n",
    "assert (pre_activations == pre_activations_hidden).all()  # biases are all zeros at this point\n",
    "print(f\"dot(W, x.T) = dot((neurons, input), (input, batch)) = dot({W_1.shape}, {x_batch.T.shape}) = ({pre_activations_hidden.shape})\")  # noqa\n",
    "assert (pre_activations_hidden == W_1 @ x_batch.T).all()\n",
    "# np.dot(W1, X)"
   ]
  },
  {
   "cell_type": "markdown",
   "metadata": {},
   "source": [
    "Matrix multiplication is calculated by taking the first row of the first matrix and the first column of the second matrix and doing a dot product (multiplying all corresponding elements together and then summing across all results), and repeating for all row/column combinations of the first and second matrix respectively.\n",
    "\n",
    "However, in order to do the matrix multiplication with our weight matrix and batch matrix, we have to transpose the batch matrix.\n",
    "\n",
    "We start with these dimensions `(neurons x input_size) @ (batch_size x input_size)`\n",
    "\n",
    "But we need `(neurons x input_size) @ (input_size x batch_size)`\n",
    "\n",
    "And so we take the first row of the weight matrix and the first column of the transposed batch matrix and do a dot product. But the `first column of the transposed batch matrix` is the same as the first row of the non-transposed batch matrix. So really, each value in the pre-activation matrix is the dot product of the connections of a particular neuron (e.g. the first row in weights matrix is the first neuron) to the inputs of a particular example (e.g. first row in batch matrix) resulting an a matrix that has 50 rows corresponding to the the number of neurons and 32 columns corresponding to each of the examples."
   ]
  },
  {
   "cell_type": "code",
   "execution_count": 12,
   "metadata": {},
   "outputs": [],
   "source": [
    "# first row of weights, and first column of transposed input\n",
    "w_row = W_1[0, :]\n",
    "xt_column = x_batch.T[:, 0]\n",
    "w_row.shape, xt_column.shape\n",
    "# dot product is just the sum of the element-wise product\n",
    "assert np.dot(w_row, xt_column) == (w_row * xt_column).sum()"
   ]
  },
  {
   "cell_type": "code",
   "execution_count": 13,
   "metadata": {},
   "outputs": [],
   "source": [
    "# but the first column of transposed input is just the first row of the input (non-transposed)\n",
    "for r in range(len(x_batch)):\n",
    "    assert (x_batch.T[:, r] == x_batch[r, :]).all()\n",
    "\n",
    "assert np.dot(w_row, xt_column) == np.dot(w_row, x_batch[0, :])\n",
    "# and so below, we don't need to transpose the input and we can just use the dot product\n",
    "# for each row (i.e. nueron) of the weights and each row (example) of the input"
   ]
  },
  {
   "cell_type": "code",
   "execution_count": 14,
   "metadata": {},
   "outputs": [
    {
     "name": "stdout",
     "output_type": "stream",
     "text": [
      "(50, 32)\n"
     ]
    }
   ],
   "source": [
    "# manual dot product i.e. matrix multiplication\n",
    "# matrix multiplication is the dot product of the rows of the first matrix with the columns of the\n",
    "# second matrix\n",
    "assert W_1.shape[1] == x_batch.T.shape[0]\n",
    "# the result will have the same number of rows as the first matrix and the same number of columns\n",
    "pre_activations_manual = np.zeros((W_1.shape[0], x_batch.shape[0]))\n",
    "for i in range(W_1.shape[0]):\n",
    "    for j in range(x_batch.shape[0]):\n",
    "        pre_activations_manual[i, j] = np.dot(W_1[i], x_batch[j])\n",
    "\n",
    "print(pre_activations_manual.shape)\n",
    "assert (pre_activations_manual == pre_activations_hidden).all()"
   ]
  },
  {
   "cell_type": "code",
   "execution_count": 15,
   "metadata": {},
   "outputs": [],
   "source": [
    "# and so the first element in the pre-activations is the dot product of the first row (neuron) of the\n",
    "# weights and the first row (example) of the input (we haven't included the bias yet)\n",
    "# in other words, the first neuron is connected to each of the inputs (27) with a weight, which is\n",
    "# why our weights matrix has 27 columns. Each column is a weight for each input. The matrix\n",
    "# connects all of the inputs to all of the neurons. The dot product of the first row of the weights\n",
    "# and the first row of the input is the sum of the element-wise product of the two vectors. This\n",
    "# is the pre-activation of the first neuron for the first example. There are 50 neurons and 32 examples\n",
    "# so the pre-activations matrix is 50 x 32\n",
    "assert pre_activations_hidden[0,0] == np.dot(W_1[0, :], x_batch[0, :])"
   ]
  },
  {
   "cell_type": "markdown",
   "metadata": {},
   "source": [
    "---"
   ]
  },
  {
   "cell_type": "markdown",
   "metadata": {},
   "source": [
    "## Actual Pass"
   ]
  },
  {
   "cell_type": "code",
   "execution_count": 16,
   "metadata": {},
   "outputs": [],
   "source": [
    "def relu(x: np.array) -> np.array:\n",
    "    return np.maximum(0, x)\n",
    "\n",
    "def relu_derivative(x: np.array) -> np.array:\n",
    "    return (x > 0).astype(float)"
   ]
  },
  {
   "cell_type": "code",
   "execution_count": 21,
   "metadata": {},
   "outputs": [
    {
     "name": "stdout",
     "output_type": "stream",
     "text": [
      "((50, 27) @ (27, 32)) + (50, 1) = ((50, 32))\n",
      "((27, 50) @ (50, 32)) + (27, 1) = ((27, 32))\n"
     ]
    }
   ],
   "source": [
    "# activations for first layer\n",
    "Z_1 = (W_1 @ x_batch.T) + b_1  # pre-activations for layer 1\n",
    "A_1 = relu(Z_1)  # activations for layer 1\n",
    "print(f\"({W_1.shape} @ {x_batch.T.shape}) + {b_1.shape} = ({A_1.shape})\")\n",
    "Z_2 = (W_2 @ A_1) + b_2  # pre-activations for layer 2\n",
    "A_2 = relu(Z_2)  # activations for layer 2\n",
    "# our output size is 27 which happens to be the same as the input size (but in general doesn't\n",
    "# have to be the same)\n",
    "# so the result is 27 outputs for each of the 32 examples\n",
    "print(f\"({W_2.shape} @ {A_1.shape}) + {b_2.shape} = ({A_2.shape})\")"
   ]
  },
  {
   "cell_type": "code",
   "execution_count": null,
   "metadata": {},
   "outputs": [],
   "source": []
  }
 ],
 "metadata": {
  "kernelspec": {
   "display_name": "Python 3",
   "language": "python",
   "name": "python3"
  },
  "language_info": {
   "codemirror_mode": {
    "name": "ipython",
    "version": 3
   },
   "file_extension": ".py",
   "mimetype": "text/x-python",
   "name": "python",
   "nbconvert_exporter": "python",
   "pygments_lexer": "ipython3",
   "version": "3.11.8"
  }
 },
 "nbformat": 4,
 "nbformat_minor": 2
}
