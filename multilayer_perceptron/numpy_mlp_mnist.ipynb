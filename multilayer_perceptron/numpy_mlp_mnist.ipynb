{
 "cells": [
  {
   "cell_type": "markdown",
   "metadata": {},
   "source": [
    "# Multilayer Perception implemented in numpy"
   ]
  },
  {
   "cell_type": "code",
   "execution_count": 1,
   "metadata": {},
   "outputs": [
    {
     "name": "stderr",
     "output_type": "stream",
     "text": [
      "/tmp/ipykernel_61841/671612114.py:6: DeprecationWarning: \n",
      "Pyarrow will become a required dependency of pandas in the next major release of pandas (pandas 3.0),\n",
      "(to allow more performant data types, such as the Arrow string type, and better interoperability with other libraries)\n",
      "but was not found to be installed on your system.\n",
      "If this would cause problems for you,\n",
      "please provide us feedback at https://github.com/pandas-dev/pandas/issues/54466\n",
      "        \n",
      "  import pandas as pd\n"
     ]
    }
   ],
   "source": [
    "import time\n",
    "import numpy as np\n",
    "import matplotlib.pyplot as plt\n",
    "from sklearn.datasets import fetch_openml\n",
    "from sklearn.model_selection import train_test_split\n",
    "import pandas as pd"
   ]
  },
  {
   "cell_type": "code",
   "execution_count": 2,
   "metadata": {},
   "outputs": [],
   "source": [
    "x, y = fetch_openml('mnist_784', version=1, return_X_y=True, parser='auto')"
   ]
  },
  {
   "cell_type": "code",
   "execution_count": 3,
   "metadata": {},
   "outputs": [
    {
     "name": "stdout",
     "output_type": "stream",
     "text": [
      "Training set  : X-(56000, 784), y-(56000,)\n",
      "Validation set: X-(7000, 784), y-(7000,)\n",
      "Test set      : X-(7000, 784), y-(7000,)\n"
     ]
    }
   ],
   "source": [
    "\n",
    "DIMENSIONS = (28, 28)\n",
    "CHANNELS = 1  # grayscale\n",
    "INPUT_SIZE = DIMENSIONS[0] * DIMENSIONS[1]\n",
    "OUTPUT_SIZE = 10\n",
    "\n",
    "def transform_data(\n",
    "        is_convolutional: bool,\n",
    "        x: pd.DataFrame,\n",
    "        y: pd.Series | None = None) -> tuple[np.array, np.array]:\n",
    "    \"\"\"\n",
    "    Transforms the data. Returns a tuple of (x, y) where x is a tensor of the features and y is a\n",
    "    tensor of the labels.\n",
    "\n",
    "    Args:\n",
    "        is_convolutional: A boolean indicating whether the model is convolutional.\n",
    "        x: A dataframe of the features.\n",
    "        y: A series of the labels.\n",
    "    \"\"\"\n",
    "    x = x.to_numpy()\n",
    "    # Normalize the tensor\n",
    "    x_min = x.min()\n",
    "    x_max = x.max()\n",
    "    x = (x - x_min) / (x_max - x_min)\n",
    "    assert x.min() == 0\n",
    "    assert x.max() == 1\n",
    "    if is_convolutional:\n",
    "        # Reshape data to have channel dimension\n",
    "        # MNIST images are 28x28, so we reshape them to [batch_size, 1, 28, 28]\n",
    "        x = x.reshape(-1, CHANNELS, DIMENSIONS[0], DIMENSIONS[1])\n",
    "    if y is not None:\n",
    "        y = y.to_numpy().astype(int)\n",
    "    return x, y\n",
    "\n",
    "\n",
    "def get_data():  # noqa\n",
    "    \"\"\"Function is required by and called from `model_pipeline()`.\"\"\"\n",
    "    x, y = fetch_openml('mnist_784', version=1, return_X_y=True, parser='auto')\n",
    "    x, y = transform_data(is_convolutional=False, x=x, y=y)\n",
    "    # 80% train; 10% validation; 10% test\n",
    "    x_train, x_test, y_train, y_test = train_test_split(x, y, test_size=0.2, random_state=42)\n",
    "    x_test, x_val, y_test, y_val = train_test_split(x_test, y_test, test_size=0.5, random_state=42)\n",
    "    print(f\"Training set  : X-{x_train.shape}, y-{y_train.shape}\")\n",
    "    print(f\"Validation set: X-{x_val.shape}, y-{y_val.shape}\")\n",
    "    print(f\"Test set      : X-{x_test.shape}, y-{y_test.shape}\")\n",
    "    return x_train, x_val, x_test, y_train, y_val, y_test\n",
    "\n",
    "x_train, x_val, x_test, y_train, y_val, y_test = get_data()"
   ]
  },
  {
   "cell_type": "code",
   "execution_count": 4,
   "metadata": {},
   "outputs": [
    {
     "data": {
      "text/plain": [
       "(56000, 784)"
      ]
     },
     "execution_count": 4,
     "metadata": {},
     "output_type": "execute_result"
    }
   ],
   "source": [
    "x_train.shape"
   ]
  },
  {
   "cell_type": "code",
   "execution_count": 5,
   "metadata": {},
   "outputs": [
    {
     "data": {
      "text/plain": [
       "(70000,)"
      ]
     },
     "execution_count": 5,
     "metadata": {},
     "output_type": "execute_result"
    }
   ],
   "source": [
    "y.shape"
   ]
  },
  {
   "cell_type": "code",
   "execution_count": 6,
   "metadata": {},
   "outputs": [
    {
     "data": {
      "text/plain": [
       "0    5\n",
       "1    0\n",
       "2    4\n",
       "3    1\n",
       "4    9\n",
       "5    2\n",
       "6    1\n",
       "7    3\n",
       "8    1\n",
       "9    4\n",
       "Name: class, dtype: category\n",
       "Categories (10, object): ['0', '1', '2', '3', ..., '6', '7', '8', '9']"
      ]
     },
     "execution_count": 6,
     "metadata": {},
     "output_type": "execute_result"
    }
   ],
   "source": [
    "y[0:10]"
   ]
  },
  {
   "cell_type": "code",
   "execution_count": 7,
   "metadata": {},
   "outputs": [
    {
     "data": {
      "text/plain": [
       "<matplotlib.image.AxesImage at 0x7fa66f028f50>"
      ]
     },
     "execution_count": 7,
     "metadata": {},
     "output_type": "execute_result"
    },
    {
     "data": {
      "image/png": "[encoded data removed]",
      "text/plain": [
       "<Figure size 640x480 with 1 Axes>"
      ]
     },
     "metadata": {},
     "output_type": "display_data"
    }
   ],
   "source": [
    "# encode\n",
    "def one_hot_encode(index: int) -> np.array:\n",
    "    \"\"\"Return a one-hot encoded vector of the given index.\"\"\"\n",
    "    vector = np.zeros(OUTPUT_SIZE)\n",
    "    vector[index] = 1\n",
    "    return vector\n",
    "\n",
    "y_train = np.array([one_hot_encode(i) for i in y_train])\n",
    "y_val = np.array([one_hot_encode(i) for i in y_val])\n",
    "y_test = np.array([one_hot_encode(i) for i in y_test])\n",
    "plt.imshow(y_train[0:10])"
   ]
  },
  {
   "cell_type": "code",
   "execution_count": 8,
   "metadata": {},
   "outputs": [],
   "source": [
    "def relu(z: np.array) -> np.array:\n",
    "    \"\"\"Return the ReLU of the input.\"\"\"\n",
    "    return np.maximum(0, z)\n",
    "\n",
    "def relu_derivative(z: np.array) -> np.array:\n",
    "    \"\"\"Return the derivative of the ReLU of the input.\"\"\"\n",
    "    return (z > 0).astype(float)\n",
    "\n",
    "def softmax(x: np.array) -> np.array:\n",
    "    \"\"\"\n",
    "    Return the softmax of the input.\n",
    "\n",
    "    The softmax function is a generalization of the logistic function that \"squashes\" a\n",
    "    K-dimensional\n",
    "    vector z of arbitrary real values to a K-dimensional vector sigma(z) of real values in the\n",
    "    range (0, 1) that add up to 1.\n",
    "\n",
    "    In other words, the softmax function transforms a vector of real values into a probability\n",
    "    distribution.\n",
    "    \"\"\"\n",
    "    exp_x = np.exp(x)\n",
    "    return exp_x / exp_x.sum(axis=1).reshape(-1, 1)\n",
    "\n",
    "def forward_pass(x: np.array, params: dict) -> tuple[np.array, dict]:\n",
    "    \"\"\"\n",
    "    Return the output of a forward pass through the network, as well as the cache.\n",
    "\n",
    "    The cache contains the pre-activations and activations for each layer.\n",
    "    \"\"\"\n",
    "    W_1 = params[\"W_1\"]\n",
    "    b_1 = params[\"b_1\"]\n",
    "    W_2 = params[\"W_2\"]\n",
    "    b_2 = params[\"b_2\"]\n",
    "    Z_1 = (x @ W_1) + b_1  # pre-activations for layer 1\n",
    "    A_1 = relu(Z_1)  # activations for layer 1\n",
    "    Z_2 = (A_1 @ W_2) + b_2  # pre-activations for layer 2\n",
    "    # Z_2 is refered to as \"logits\"\n",
    "    A_2 = softmax(Z_2)  # activations for layer 2 are probabilities\n",
    "    cache = {\n",
    "        \"Z_1\": Z_1,\n",
    "        \"A_1\": A_1,\n",
    "        \"Z_2\": Z_2,\n",
    "        \"A_2\": A_2,\n",
    "    }\n",
    "    return A_2, cache\n",
    "\n",
    "def backward_pass(x: np.array, y: np.array, params: dict, cache: dict) -> dict:\n",
    "    \"\"\"\n",
    "    Return the gradients of the loss w.r.t. the parameters of the network.\n",
    "\n",
    "    The gradients are computed using backpropagation.\n",
    "    \"\"\"\n",
    "    m = x.shape[0]\n",
    "    W_2 = params['W_2']\n",
    "    A_1 = cache['A_1']\n",
    "    A_2 = cache['A_2']\n",
    "    Z_1 = cache['Z_1']\n",
    "    # step 1: Gradients of loss w.r.t. pre-activations of layer 2\n",
    "    dZ_2 = A_2 - y\n",
    "    # Step 2: Gradients of loss w.r.t. W_2 and b_2\n",
    "    dW_2 = (A_1.T @ dZ_2) / m\n",
    "    db_2 = np.sum(dZ_2, axis=0, keepdims=True) / m\n",
    "    # Step 3: Backpropagation through ReLU activation\n",
    "    dA_1 = dZ_2 @ W_2.T\n",
    "    dZ_1 = dA_1 * relu_derivative(Z_1)\n",
    "    # Step 4: Gradients of loss w.r.t. W_1 and b_1\n",
    "    dW_1 = x.T @ dZ_1 / m\n",
    "    db_1 = np.sum(dZ_1, axis=0, keepdims=True) / m\n",
    "    return {\n",
    "        \"dW_1\": dW_1,\n",
    "        \"db_1\": db_1,\n",
    "        \"dW_2\": dW_2,\n",
    "        \"db_2\": db_2,\n",
    "    }\n",
    "\n",
    "def update_parameters(params, grads, learning_rate):\n",
    "    params['W_1'] -= learning_rate * grads['dW_1']\n",
    "    params['b_1'] -= learning_rate * grads['db_1']\n",
    "    params['W_2'] -= learning_rate * grads['dW_2']\n",
    "    params['b_2'] -= learning_rate * grads['db_2']\n",
    "    return params\n",
    "\n",
    "def compute_loss(pred_probs: np.array, y: np.array) -> float:\n",
    "    row_indices = np.arange(y.shape[0])\n",
    "    column_indices = np.argmax(y, axis=1)\n",
    "    pred_prob_of_actual = pred_probs[row_indices, column_indices]\n",
    "    return -np.log(pred_prob_of_actual + 1e-9).mean()"
   ]
  },
  {
   "cell_type": "code",
   "execution_count": 9,
   "metadata": {},
   "outputs": [
    {
     "name": "stdout",
     "output_type": "stream",
     "text": [
      "(784, 100)\n",
      "(1, 100)\n",
      "(100, 10)\n",
      "(1, 10)\n"
     ]
    }
   ],
   "source": [
    "seed = 42\n",
    "rng = np.random.default_rng(seed)\n",
    "\n",
    "input_size = 28 * 28\n",
    "hidden_size = 100\n",
    "output_size = 10\n",
    "\n",
    "# He initialization for weights (with ReLU activation)\n",
    "he_scale = np.sqrt(2 / hidden_size)\n",
    "\n",
    "W_1 = rng.normal(loc=0, scale=he_scale, size=(input_size, hidden_size))\n",
    "b_1 = np.zeros((1, hidden_size))\n",
    "W_2 = rng.normal(loc=0, scale=he_scale, size=(hidden_size, output_size))\n",
    "b_2 = np.zeros((1, output_size))\n",
    "\n",
    "# I want to view the original weights vs trained weights\n",
    "W_1_copy = W_1.copy()\n",
    "W_2_copy = W_2.copy()\n",
    "\n",
    "print(W_1.shape)\n",
    "print(b_1.shape)\n",
    "print(W_2.shape)\n",
    "print(b_2.shape)"
   ]
  },
  {
   "cell_type": "code",
   "execution_count": 10,
   "metadata": {},
   "outputs": [
    {
     "name": "stdout",
     "output_type": "stream",
     "text": [
      "Epoch 0, Batch 0000, training loss 2.674, validation loss 2.558\n",
      "Epoch 0, Batch 0400, training loss 0.81, validation loss 0.787\n",
      "Epoch 0, Batch 0800, training loss 0.972, validation loss 0.562\n",
      "Epoch 0, Batch 1200, training loss 0.397, validation loss 0.471\n",
      "Epoch 0, Batch 1600, training loss 0.407, validation loss 0.423\n",
      "Epoch 1, Batch 0000, training loss 0.174, validation loss 0.409\n",
      "Epoch 1, Batch 0400, training loss 0.367, validation loss 0.381\n",
      "Epoch 1, Batch 0800, training loss 0.853, validation loss 0.359\n",
      "Epoch 1, Batch 1200, training loss 0.312, validation loss 0.341\n",
      "Epoch 1, Batch 1600, training loss 0.283, validation loss 0.329\n",
      "Epoch 2, Batch 0000, training loss 0.113, validation loss 0.323\n",
      "Epoch 2, Batch 0400, training loss 0.275, validation loss 0.314\n",
      "Epoch 2, Batch 0800, training loss 0.771, validation loss 0.303\n",
      "Epoch 2, Batch 1200, training loss 0.286, validation loss 0.294\n",
      "Epoch 2, Batch 1600, training loss 0.23, validation loss 0.288\n",
      "Epoch 3, Batch 0000, training loss 0.085, validation loss 0.285\n",
      "Epoch 3, Batch 0400, training loss 0.221, validation loss 0.28\n",
      "Epoch 3, Batch 0800, training loss 0.696, validation loss 0.272\n",
      "Epoch 3, Batch 1200, training loss 0.274, validation loss 0.266\n",
      "Epoch 3, Batch 1600, training loss 0.2, validation loss 0.262\n",
      "Epoch 4, Batch 0000, training loss 0.068, validation loss 0.26\n",
      "Epoch 4, Batch 0400, training loss 0.188, validation loss 0.256\n",
      "Epoch 4, Batch 0800, training loss 0.639, validation loss 0.25\n",
      "Epoch 4, Batch 1200, training loss 0.267, validation loss 0.246\n",
      "Epoch 4, Batch 1600, training loss 0.181, validation loss 0.243\n",
      "Epoch 5, Batch 0000, training loss 0.057, validation loss 0.241\n",
      "Epoch 5, Batch 0400, training loss 0.161, validation loss 0.238\n",
      "Epoch 5, Batch 0800, training loss 0.596, validation loss 0.233\n",
      "Epoch 5, Batch 1200, training loss 0.262, validation loss 0.23\n",
      "Epoch 5, Batch 1600, training loss 0.164, validation loss 0.228\n",
      "Epoch 6, Batch 0000, training loss 0.05, validation loss 0.227\n",
      "Epoch 6, Batch 0400, training loss 0.139, validation loss 0.224\n",
      "Epoch 6, Batch 0800, training loss 0.563, validation loss 0.22\n",
      "Epoch 6, Batch 1200, training loss 0.255, validation loss 0.217\n",
      "Epoch 6, Batch 1600, training loss 0.149, validation loss 0.215\n",
      "Epoch 7, Batch 0000, training loss 0.046, validation loss 0.214\n",
      "Epoch 7, Batch 0400, training loss 0.123, validation loss 0.211\n",
      "Epoch 7, Batch 0800, training loss 0.533, validation loss 0.208\n",
      "Epoch 7, Batch 1200, training loss 0.245, validation loss 0.206\n",
      "Epoch 7, Batch 1600, training loss 0.136, validation loss 0.204\n",
      "Epoch 8, Batch 0000, training loss 0.042, validation loss 0.203\n",
      "Epoch 8, Batch 0400, training loss 0.107, validation loss 0.201\n",
      "Epoch 8, Batch 0800, training loss 0.509, validation loss 0.198\n",
      "Epoch 8, Batch 1200, training loss 0.236, validation loss 0.196\n",
      "Epoch 8, Batch 1600, training loss 0.126, validation loss 0.194\n",
      "Epoch 9, Batch 0000, training loss 0.039, validation loss 0.194\n",
      "Epoch 9, Batch 0400, training loss 0.095, validation loss 0.192\n",
      "Epoch 9, Batch 0800, training loss 0.485, validation loss 0.189\n",
      "Epoch 9, Batch 1200, training loss 0.225, validation loss 0.188\n",
      "Epoch 9, Batch 1600, training loss 0.116, validation loss 0.186\n",
      "Epoch 10, Batch 0000, training loss 0.037, validation loss 0.186\n",
      "Epoch 10, Batch 0400, training loss 0.085, validation loss 0.184\n",
      "Epoch 10, Batch 0800, training loss 0.465, validation loss 0.182\n",
      "Epoch 10, Batch 1200, training loss 0.214, validation loss 0.18\n",
      "Epoch 10, Batch 1600, training loss 0.108, validation loss 0.179\n",
      "Epoch 11, Batch 0000, training loss 0.034, validation loss 0.179\n",
      "Epoch 11, Batch 0400, training loss 0.076, validation loss 0.177\n",
      "Epoch 11, Batch 0800, training loss 0.449, validation loss 0.175\n",
      "Epoch 11, Batch 1200, training loss 0.203, validation loss 0.174\n",
      "Epoch 11, Batch 1600, training loss 0.102, validation loss 0.172\n",
      "Epoch 12, Batch 0000, training loss 0.032, validation loss 0.173\n",
      "Epoch 12, Batch 0400, training loss 0.069, validation loss 0.171\n",
      "Epoch 12, Batch 0800, training loss 0.434, validation loss 0.169\n",
      "Epoch 12, Batch 1200, training loss 0.192, validation loss 0.168\n",
      "Epoch 12, Batch 1600, training loss 0.097, validation loss 0.166\n",
      "Epoch 13, Batch 0000, training loss 0.03, validation loss 0.167\n",
      "Epoch 13, Batch 0400, training loss 0.063, validation loss 0.165\n",
      "Epoch 13, Batch 0800, training loss 0.42, validation loss 0.164\n",
      "Epoch 13, Batch 1200, training loss 0.181, validation loss 0.163\n",
      "Epoch 13, Batch 1600, training loss 0.092, validation loss 0.161\n",
      "Epoch 14, Batch 0000, training loss 0.029, validation loss 0.162\n",
      "Epoch 14, Batch 0400, training loss 0.058, validation loss 0.16\n",
      "Epoch 14, Batch 0800, training loss 0.409, validation loss 0.159\n",
      "Epoch 14, Batch 1200, training loss 0.171, validation loss 0.158\n",
      "Epoch 14, Batch 1600, training loss 0.088, validation loss 0.157\n"
     ]
    }
   ],
   "source": [
    "learning_rate = 0.01\n",
    "epochs = 15\n",
    "batch_size = 32\n",
    "losses = []\n",
    "val_losses = []\n",
    "\n",
    "params = {\n",
    "    \"W_1\": W_1,\n",
    "    \"b_1\": b_1,\n",
    "    \"W_2\": W_2,\n",
    "    \"b_2\": b_2,\n",
    "}\n",
    "\n",
    "# shuffle the training data\n",
    "shuffle_index = rng.permutation(x_train.shape[0])\n",
    "x_train, y_train = x_train[shuffle_index], y_train[shuffle_index]\n",
    "\n",
    "start = time.time()\n",
    "for epoch in range(epochs):\n",
    "    for batch, i in enumerate(range(0, x_train.shape[0], batch_size)):\n",
    "        x_batch = x_train[i:i+batch_size]\n",
    "        y = y_train[i:i+batch_size]\n",
    "        A2, cache = forward_pass(x_batch, params)\n",
    "        loss = compute_loss(y=y, pred_probs=A2)\n",
    "        grads = backward_pass(x_batch, y, params, cache)\n",
    "        params = update_parameters(params, grads, learning_rate)\n",
    "        if batch % 400 == 0:\n",
    "            losses.append(loss)\n",
    "            # calculate validation loss\n",
    "            val_outputs, _ = forward_pass(x_val, params)\n",
    "            val_loss = compute_loss(y=y_val, pred_probs=val_outputs)\n",
    "            val_losses.append(val_loss)\n",
    "            print(f\"Epoch {epoch}, Batch {batch:04}, training loss {loss.round(3)}, validation loss {val_loss.round(3)}\")  # noqa\n",
    "end = time.time()"
   ]
  },
  {
   "cell_type": "code",
   "execution_count": 18,
   "metadata": {},
   "outputs": [
    {
     "name": "stdout",
     "output_type": "stream",
     "text": [
      "Training took 38.19 seconds\n"
     ]
    }
   ],
   "source": [
    "print(f\"Training took {end - start:.2f} seconds\")"
   ]
  },
  {
   "cell_type": "code",
   "execution_count": 12,
   "metadata": {},
   "outputs": [
    {
     "data": {
      "text/plain": [
       "<matplotlib.legend.Legend at 0x7fa66f041010>"
      ]
     },
     "execution_count": 12,
     "metadata": {},
     "output_type": "execute_result"
    },
    {
     "data": {
      "image/png": "[encoded data removed]",
      "text/plain": [
       "<Figure size 640x480 with 1 Axes>"
      ]
     },
     "metadata": {},
     "output_type": "display_data"
    }
   ],
   "source": [
    "# plot losses over time\n",
    "plt.plot(losses, label=\"Training loss\")\n",
    "plt.plot(val_losses, label=\"Validation loss\")\n",
    "plt.ylim(0, 3)\n",
    "plt.legend()"
   ]
  },
  {
   "cell_type": "code",
   "execution_count": 13,
   "metadata": {},
   "outputs": [],
   "source": [
    "# plt.imshow(W_1)\n",
    "# plt.show()\n",
    "# plt.imshow(W_2)\n",
    "# plt.show()"
   ]
  },
  {
   "cell_type": "code",
   "execution_count": 14,
   "metadata": {},
   "outputs": [],
   "source": [
    "# plt.imshow(W_1_copy)\n",
    "# plt.show()\n",
    "# plt.imshow(W_2_copy)\n",
    "# plt.show()"
   ]
  },
  {
   "cell_type": "code",
   "execution_count": 15,
   "metadata": {},
   "outputs": [
    {
     "name": "stdout",
     "output_type": "stream",
     "text": [
      "Test loss: 0.17939082289517308\n",
      "Test accuracy: 0.947\n"
     ]
    }
   ],
   "source": [
    "# test the model\n",
    "A2, _ = forward_pass(x_test, params)\n",
    "loss = compute_loss(A2, y_test)\n",
    "print(f\"Test loss: {loss}\")\n",
    "\n",
    "# make predictions\n",
    "predictions = np.argmax(A2, axis=1)\n",
    "actual = np.argmax(y_test, axis=1)\n",
    "accuracy = (predictions == actual).mean()\n",
    "print(f\"Test accuracy: {accuracy}\")"
   ]
  },
  {
   "cell_type": "code",
   "execution_count": 16,
   "metadata": {},
   "outputs": [
    {
     "name": "stdout",
     "output_type": "stream",
     "text": [
      "[5 7 5 1 1 0 2 8 3 3 3 5 5 6 6 8 7 0 4 0]\n",
      "[5 7 5 8 1 0 2 3 3 3 3 3 5 6 0 8 7 0 4 0]\n"
     ]
    }
   ],
   "source": [
    "print(predictions[0:20])\n",
    "print(actual[0:20])"
   ]
  },
  {
   "cell_type": "code",
   "execution_count": 17,
   "metadata": {},
   "outputs": [
    {
     "data": {
      "text/plain": [
       "Text(0.5, 1.0, 'Count of Misclassified Samples by Class')"
      ]
     },
     "execution_count": 17,
     "metadata": {},
     "output_type": "execute_result"
    },
    {
     "data": {
      "image/png": "[encoded data removed]",
      "text/plain": [
       "<Figure size 1000x1000 with 1 Axes>"
      ]
     },
     "metadata": {},
     "output_type": "display_data"
    }
   ],
   "source": [
    "from sklearn.metrics import confusion_matrix\n",
    "import seaborn as sns\n",
    "\n",
    "cm = confusion_matrix(actual, predictions)\n",
    "# remove the diagonal values (correct predictions) for better visualization\n",
    "np.fill_diagonal(cm, 0)\n",
    "fig = plt.figure(figsize=(OUTPUT_SIZE, OUTPUT_SIZE))\n",
    "sns.heatmap(cm, annot=True, fmt='d', cmap='Blues', cbar=False)\n",
    "plt.xlabel('Predicted')\n",
    "plt.ylabel('Actual')\n",
    "plt.title('Count of Misclassified Samples by Class')"
   ]
  }
 ],
 "metadata": {
  "kernelspec": {
   "display_name": "Python 3",
   "language": "python",
   "name": "python3"
  },
  "language_info": {
   "codemirror_mode": {
    "name": "ipython",
    "version": 3
   },
   "file_extension": ".py",
   "mimetype": "text/x-python",
   "name": "python",
   "nbconvert_exporter": "python",
   "pygments_lexer": "ipython3",
   "version": "3.11.8"
  }
 },
 "nbformat": 4,
 "nbformat_minor": 2
}
